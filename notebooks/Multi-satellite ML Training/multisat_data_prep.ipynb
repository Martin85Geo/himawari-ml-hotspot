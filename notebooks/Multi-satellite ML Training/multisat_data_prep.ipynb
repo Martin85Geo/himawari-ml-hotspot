{
 "cells": [
  {
   "cell_type": "code",
   "execution_count": 1,
   "metadata": {},
   "outputs": [],
   "source": [
    "%matplotlib inline\n",
    "import matplotlib.pyplot as plt\n",
    "import pandas as pd\n",
    "import glob\n",
    "import geopandas\n",
    "import numpy as np\n",
    "import cartopy.feature as cfeature\n",
    "from cartopy import crs as ccrs\n",
    "from shapely import geometry\n",
    "from datetime import datetime"
   ]
  },
  {
   "cell_type": "code",
   "execution_count": 2,
   "metadata": {},
   "outputs": [],
   "source": [
    "hs_df = geopandas.GeoDataFrame()"
   ]
  },
  {
   "cell_type": "code",
   "execution_count": 3,
   "metadata": {},
   "outputs": [],
   "source": [
    "for file in glob.glob('../../data/processed/ML_2km_hotspot_grid_20190[4,9]*.geojson'):\n",
    "    temp_df = geopandas.read_file(file)\n",
    "    datestring = file[-16:-8]\n",
    "    temp_df['sat_date'] = datetime.strptime(datestring, \"%Y%m%d\").strftime(\"%Y/%m/%d\")\n",
    "    hs_df = hs_df.append(temp_df)"
   ]
  },
  {
   "cell_type": "code",
   "execution_count": 4,
   "metadata": {},
   "outputs": [
    {
     "name": "stderr",
     "output_type": "stream",
     "text": [
      "C:\\Anaconda3\\envs\\fred_linux\\lib\\site-packages\\pyproj\\crs\\crs.py:53: FutureWarning: '+init=<authority>:<code>' syntax is deprecated. '<authority>:<code>' is the preferred initialization method. When making the change, be mindful of axis order changes: https://pyproj4.github.io/pyproj/stable/gotchas.html#axis-order-changes-in-proj-6\n",
      "  return _prepare_from_string(\" \".join(pjargs))\n"
     ]
    }
   ],
   "source": [
    "#change projection to mercator\n",
    "hs_df.crs = {'init': 'epsg:3857'}\n",
    "hs_df.reset_index(inplace=True) \n",
    "#assign unique id to each grid \n",
    "hs_df['id_grid'] = hs_df.index"
   ]
  },
  {
   "cell_type": "code",
   "execution_count": 5,
   "metadata": {},
   "outputs": [],
   "source": [
    "#read in AOI shp file and reproject to mercator\n",
    "clip_area = geopandas.read_file('../../references/ground_truth/shapefile/aoi.shp')\n",
    "clip_area.crs\n",
    "clip_area = clip_area.to_crs({'init': 'epsg:3857'})"
   ]
  },
  {
   "cell_type": "code",
   "execution_count": 6,
   "metadata": {},
   "outputs": [],
   "source": [
    "hs_df.drop(columns=['index'], inplace=True)"
   ]
  },
  {
   "cell_type": "code",
   "execution_count": 7,
   "metadata": {},
   "outputs": [
    {
     "data": {
      "text/html": [
       "<div>\n",
       "<style scoped>\n",
       "    .dataframe tbody tr th:only-of-type {\n",
       "        vertical-align: middle;\n",
       "    }\n",
       "\n",
       "    .dataframe tbody tr th {\n",
       "        vertical-align: top;\n",
       "    }\n",
       "\n",
       "    .dataframe thead th {\n",
       "        text-align: right;\n",
       "    }\n",
       "</style>\n",
       "<table border=\"1\" class=\"dataframe\">\n",
       "  <thead>\n",
       "    <tr style=\"text-align: right;\">\n",
       "      <th></th>\n",
       "      <th>polar_weight</th>\n",
       "      <th>geo_weight</th>\n",
       "      <th>weight</th>\n",
       "      <th>geometry</th>\n",
       "      <th>sat_date</th>\n",
       "      <th>id_grid</th>\n",
       "    </tr>\n",
       "  </thead>\n",
       "  <tbody>\n",
       "    <tr>\n",
       "      <th>0</th>\n",
       "      <td>0.1675</td>\n",
       "      <td>0.0</td>\n",
       "      <td>0.08375</td>\n",
       "      <td>POLYGON ((10761976.873 2968804.526, 10763976.8...</td>\n",
       "      <td>2019/04/01</td>\n",
       "      <td>0</td>\n",
       "    </tr>\n",
       "    <tr>\n",
       "      <th>1</th>\n",
       "      <td>0.1675</td>\n",
       "      <td>0.0</td>\n",
       "      <td>0.08375</td>\n",
       "      <td>POLYGON ((10761976.873 2966804.526, 10763976.8...</td>\n",
       "      <td>2019/04/01</td>\n",
       "      <td>1</td>\n",
       "    </tr>\n",
       "    <tr>\n",
       "      <th>2</th>\n",
       "      <td>0.2000</td>\n",
       "      <td>0.0</td>\n",
       "      <td>0.10000</td>\n",
       "      <td>POLYGON ((10761976.873 2958804.526, 10763976.8...</td>\n",
       "      <td>2019/04/01</td>\n",
       "      <td>2</td>\n",
       "    </tr>\n",
       "    <tr>\n",
       "      <th>3</th>\n",
       "      <td>0.3450</td>\n",
       "      <td>0.0</td>\n",
       "      <td>0.17250</td>\n",
       "      <td>POLYGON ((10745976.873 2954804.526, 10747976.8...</td>\n",
       "      <td>2019/04/01</td>\n",
       "      <td>3</td>\n",
       "    </tr>\n",
       "    <tr>\n",
       "      <th>4</th>\n",
       "      <td>0.1575</td>\n",
       "      <td>0.0</td>\n",
       "      <td>0.07875</td>\n",
       "      <td>POLYGON ((10747976.873 2954804.526, 10749976.8...</td>\n",
       "      <td>2019/04/01</td>\n",
       "      <td>4</td>\n",
       "    </tr>\n",
       "    <tr>\n",
       "      <th>...</th>\n",
       "      <td>...</td>\n",
       "      <td>...</td>\n",
       "      <td>...</td>\n",
       "      <td>...</td>\n",
       "      <td>...</td>\n",
       "      <td>...</td>\n",
       "    </tr>\n",
       "    <tr>\n",
       "      <th>1058778</th>\n",
       "      <td>0.1625</td>\n",
       "      <td>0.0</td>\n",
       "      <td>0.08125</td>\n",
       "      <td>POLYGON ((13405976.873 -1133195.474, 13407976....</td>\n",
       "      <td>2019/09/30</td>\n",
       "      <td>1058778</td>\n",
       "    </tr>\n",
       "    <tr>\n",
       "      <th>1058779</th>\n",
       "      <td>0.1175</td>\n",
       "      <td>0.0</td>\n",
       "      <td>0.05875</td>\n",
       "      <td>POLYGON ((13373976.873 -1135195.474, 13375976....</td>\n",
       "      <td>2019/09/30</td>\n",
       "      <td>1058779</td>\n",
       "    </tr>\n",
       "    <tr>\n",
       "      <th>1058780</th>\n",
       "      <td>0.1675</td>\n",
       "      <td>0.0</td>\n",
       "      <td>0.08375</td>\n",
       "      <td>POLYGON ((13797976.873 -1137195.474, 13799976....</td>\n",
       "      <td>2019/09/30</td>\n",
       "      <td>1058780</td>\n",
       "    </tr>\n",
       "    <tr>\n",
       "      <th>1058781</th>\n",
       "      <td>0.1675</td>\n",
       "      <td>0.0</td>\n",
       "      <td>0.08375</td>\n",
       "      <td>POLYGON ((13799976.873 -1137195.474, 13801976....</td>\n",
       "      <td>2019/09/30</td>\n",
       "      <td>1058781</td>\n",
       "    </tr>\n",
       "    <tr>\n",
       "      <th>1058782</th>\n",
       "      <td>0.1525</td>\n",
       "      <td>0.0</td>\n",
       "      <td>0.07625</td>\n",
       "      <td>POLYGON ((13805976.873 -1137195.474, 13807976....</td>\n",
       "      <td>2019/09/30</td>\n",
       "      <td>1058782</td>\n",
       "    </tr>\n",
       "  </tbody>\n",
       "</table>\n",
       "<p>1058783 rows × 6 columns</p>\n",
       "</div>"
      ],
      "text/plain": [
       "         polar_weight  geo_weight   weight  \\\n",
       "0              0.1675         0.0  0.08375   \n",
       "1              0.1675         0.0  0.08375   \n",
       "2              0.2000         0.0  0.10000   \n",
       "3              0.3450         0.0  0.17250   \n",
       "4              0.1575         0.0  0.07875   \n",
       "...               ...         ...      ...   \n",
       "1058778        0.1625         0.0  0.08125   \n",
       "1058779        0.1175         0.0  0.05875   \n",
       "1058780        0.1675         0.0  0.08375   \n",
       "1058781        0.1675         0.0  0.08375   \n",
       "1058782        0.1525         0.0  0.07625   \n",
       "\n",
       "                                                  geometry    sat_date  \\\n",
       "0        POLYGON ((10761976.873 2968804.526, 10763976.8...  2019/04/01   \n",
       "1        POLYGON ((10761976.873 2966804.526, 10763976.8...  2019/04/01   \n",
       "2        POLYGON ((10761976.873 2958804.526, 10763976.8...  2019/04/01   \n",
       "3        POLYGON ((10745976.873 2954804.526, 10747976.8...  2019/04/01   \n",
       "4        POLYGON ((10747976.873 2954804.526, 10749976.8...  2019/04/01   \n",
       "...                                                    ...         ...   \n",
       "1058778  POLYGON ((13405976.873 -1133195.474, 13407976....  2019/09/30   \n",
       "1058779  POLYGON ((13373976.873 -1135195.474, 13375976....  2019/09/30   \n",
       "1058780  POLYGON ((13797976.873 -1137195.474, 13799976....  2019/09/30   \n",
       "1058781  POLYGON ((13799976.873 -1137195.474, 13801976....  2019/09/30   \n",
       "1058782  POLYGON ((13805976.873 -1137195.474, 13807976....  2019/09/30   \n",
       "\n",
       "         id_grid  \n",
       "0              0  \n",
       "1              1  \n",
       "2              2  \n",
       "3              3  \n",
       "4              4  \n",
       "...          ...  \n",
       "1058778  1058778  \n",
       "1058779  1058779  \n",
       "1058780  1058780  \n",
       "1058781  1058781  \n",
       "1058782  1058782  \n",
       "\n",
       "[1058783 rows x 6 columns]"
      ]
     },
     "execution_count": 7,
     "metadata": {},
     "output_type": "execute_result"
    }
   ],
   "source": [
    "hs_df"
   ]
  },
  {
   "cell_type": "code",
   "execution_count": 8,
   "metadata": {},
   "outputs": [],
   "source": [
    "#load in ground truth data\n",
    "truth_df = pd.read_csv('../../references/ground_truth/processed/daily_ground_truth_Apr_Sep_2019.csv')\n",
    "truth_df.drop(columns=[\"Unnamed: 0\"], inplace=True)"
   ]
  },
  {
   "cell_type": "code",
   "execution_count": 9,
   "metadata": {},
   "outputs": [],
   "source": [
    "truth_gdf = geopandas.GeoDataFrame(truth_df, geometry=geopandas.points_from_xy(truth_df.lon, truth_df.lat))"
   ]
  },
  {
   "cell_type": "code",
   "execution_count": 10,
   "metadata": {},
   "outputs": [
    {
     "name": "stderr",
     "output_type": "stream",
     "text": [
      "C:\\Anaconda3\\envs\\fred_linux\\lib\\site-packages\\pyproj\\crs\\crs.py:53: FutureWarning: '+init=<authority>:<code>' syntax is deprecated. '<authority>:<code>' is the preferred initialization method. When making the change, be mindful of axis order changes: https://pyproj4.github.io/pyproj/stable/gotchas.html#axis-order-changes-in-proj-6\n",
      "  return _prepare_from_string(\" \".join(pjargs))\n"
     ]
    }
   ],
   "source": [
    "#reproject to mercator\n",
    "truth_gdf.crs = {'init' :'epsg:4326'}\n",
    "truth_gdf = truth_gdf.to_crs({'init': 'epsg:3857'})"
   ]
  },
  {
   "cell_type": "code",
   "execution_count": 11,
   "metadata": {},
   "outputs": [],
   "source": [
    "#add in 1 km buffer\n",
    "#truth_gdf_buffered = truth_gdf.buffer(1000)\n",
    "#add in 500 m buffer\n",
    "#truth_gdf_buffered = truth_gdf.buffer(500)\n",
    "#no buffer\n",
    "truth_gdf_buffered = truth_gdf.buffer(1)\n",
    "truth_gdf.geometry = truth_gdf_buffered"
   ]
  },
  {
   "cell_type": "code",
   "execution_count": 12,
   "metadata": {},
   "outputs": [],
   "source": [
    "#clip and remove hotspot grid outside of aoi\n",
    "hs_df_clipped = geopandas.overlay(clip_area, hs_df, how='intersection')"
   ]
  },
  {
   "cell_type": "code",
   "execution_count": 13,
   "metadata": {},
   "outputs": [],
   "source": [
    "hs_df_clipped.to_file('../../data/interim/multisat_grid_hotspot_1m_clipped_apr_sep_2019.geojson', driver='GeoJSON')"
   ]
  },
  {
   "cell_type": "code",
   "execution_count": 14,
   "metadata": {},
   "outputs": [
    {
     "data": {
      "text/html": [
       "<div>\n",
       "<style scoped>\n",
       "    .dataframe tbody tr th:only-of-type {\n",
       "        vertical-align: middle;\n",
       "    }\n",
       "\n",
       "    .dataframe tbody tr th {\n",
       "        vertical-align: top;\n",
       "    }\n",
       "\n",
       "    .dataframe thead th {\n",
       "        text-align: right;\n",
       "    }\n",
       "</style>\n",
       "<table border=\"1\" class=\"dataframe\">\n",
       "  <thead>\n",
       "    <tr style=\"text-align: right;\">\n",
       "      <th></th>\n",
       "      <th>polar_weight</th>\n",
       "      <th>geo_weight</th>\n",
       "      <th>weight</th>\n",
       "      <th>sat_date</th>\n",
       "      <th>id_grid</th>\n",
       "      <th>geometry</th>\n",
       "    </tr>\n",
       "  </thead>\n",
       "  <tbody>\n",
       "    <tr>\n",
       "      <th>0</th>\n",
       "      <td>0.0</td>\n",
       "      <td>0.000232</td>\n",
       "      <td>0.000116</td>\n",
       "      <td>2019/09/20</td>\n",
       "      <td>959695</td>\n",
       "      <td>POLYGON ((11321976.873 84804.526, 11323976.873...</td>\n",
       "    </tr>\n",
       "    <tr>\n",
       "      <th>1</th>\n",
       "      <td>0.0</td>\n",
       "      <td>0.000232</td>\n",
       "      <td>0.000116</td>\n",
       "      <td>2019/09/20</td>\n",
       "      <td>959694</td>\n",
       "      <td>POLYGON ((11321090.741 82804.526, 11321100.893...</td>\n",
       "    </tr>\n",
       "    <tr>\n",
       "      <th>2</th>\n",
       "      <td>0.0</td>\n",
       "      <td>0.000139</td>\n",
       "      <td>0.000069</td>\n",
       "      <td>2019/09/20</td>\n",
       "      <td>959578</td>\n",
       "      <td>POLYGON ((11321100.893 84804.526, 11321111.045...</td>\n",
       "    </tr>\n",
       "    <tr>\n",
       "      <th>3</th>\n",
       "      <td>0.0</td>\n",
       "      <td>0.000054</td>\n",
       "      <td>0.000027</td>\n",
       "      <td>2019/09/21</td>\n",
       "      <td>971133</td>\n",
       "      <td>POLYGON ((11321976.873 86804.526, 11323976.873...</td>\n",
       "    </tr>\n",
       "    <tr>\n",
       "      <th>4</th>\n",
       "      <td>0.0</td>\n",
       "      <td>0.000283</td>\n",
       "      <td>0.000141</td>\n",
       "      <td>2019/09/17</td>\n",
       "      <td>922578</td>\n",
       "      <td>POLYGON ((11321976.873 86804.526, 11323976.873...</td>\n",
       "    </tr>\n",
       "  </tbody>\n",
       "</table>\n",
       "</div>"
      ],
      "text/plain": [
       "   polar_weight  geo_weight    weight    sat_date  id_grid  \\\n",
       "0           0.0    0.000232  0.000116  2019/09/20   959695   \n",
       "1           0.0    0.000232  0.000116  2019/09/20   959694   \n",
       "2           0.0    0.000139  0.000069  2019/09/20   959578   \n",
       "3           0.0    0.000054  0.000027  2019/09/21   971133   \n",
       "4           0.0    0.000283  0.000141  2019/09/17   922578   \n",
       "\n",
       "                                            geometry  \n",
       "0  POLYGON ((11321976.873 84804.526, 11323976.873...  \n",
       "1  POLYGON ((11321090.741 82804.526, 11321100.893...  \n",
       "2  POLYGON ((11321100.893 84804.526, 11321111.045...  \n",
       "3  POLYGON ((11321976.873 86804.526, 11323976.873...  \n",
       "4  POLYGON ((11321976.873 86804.526, 11323976.873...  "
      ]
     },
     "execution_count": 14,
     "metadata": {},
     "output_type": "execute_result"
    }
   ],
   "source": [
    "#remove `id` of the aoi shp file\n",
    "hs_df_clipped.drop(columns=['id'], inplace=True)\n",
    "hs_df_clipped.head()"
   ]
  },
  {
   "cell_type": "code",
   "execution_count": 15,
   "metadata": {},
   "outputs": [
    {
     "data": {
      "text/html": [
       "<div>\n",
       "<style scoped>\n",
       "    .dataframe tbody tr th:only-of-type {\n",
       "        vertical-align: middle;\n",
       "    }\n",
       "\n",
       "    .dataframe tbody tr th {\n",
       "        vertical-align: top;\n",
       "    }\n",
       "\n",
       "    .dataframe thead th {\n",
       "        text-align: right;\n",
       "    }\n",
       "</style>\n",
       "<table border=\"1\" class=\"dataframe\">\n",
       "  <thead>\n",
       "    <tr style=\"text-align: right;\">\n",
       "      <th></th>\n",
       "      <th>datestamp</th>\n",
       "      <th>geometry</th>\n",
       "      <th>lat</th>\n",
       "      <th>lon</th>\n",
       "      <th>end_date</th>\n",
       "      <th>start_date</th>\n",
       "      <th>period</th>\n",
       "      <th>id_truth</th>\n",
       "    </tr>\n",
       "  </thead>\n",
       "  <tbody>\n",
       "    <tr>\n",
       "      <th>0</th>\n",
       "      <td>2019/09/01</td>\n",
       "      <td>POLYGON ((11371380.424 47734.603, 11371380.419...</td>\n",
       "      <td>0.428803</td>\n",
       "      <td>102.150839</td>\n",
       "      <td>2019-09-01</td>\n",
       "      <td>2019-09-01</td>\n",
       "      <td>0 days 00:00:00.000000000</td>\n",
       "      <td>0</td>\n",
       "    </tr>\n",
       "    <tr>\n",
       "      <th>1</th>\n",
       "      <td>2019/09/01</td>\n",
       "      <td>POLYGON ((11371514.189 47386.805, 11371514.184...</td>\n",
       "      <td>0.425679</td>\n",
       "      <td>102.152041</td>\n",
       "      <td>2019-09-01</td>\n",
       "      <td>2019-09-01</td>\n",
       "      <td>0 days 00:00:00.000000000</td>\n",
       "      <td>1</td>\n",
       "    </tr>\n",
       "    <tr>\n",
       "      <th>2</th>\n",
       "      <td>2019/09/01</td>\n",
       "      <td>POLYGON ((11399899.079 -14065.191, 11399899.07...</td>\n",
       "      <td>-0.126350</td>\n",
       "      <td>102.407027</td>\n",
       "      <td>2019-09-01</td>\n",
       "      <td>2019-09-01</td>\n",
       "      <td>0 days 00:00:00.000000000</td>\n",
       "      <td>2</td>\n",
       "    </tr>\n",
       "    <tr>\n",
       "      <th>3</th>\n",
       "      <td>2019/09/01</td>\n",
       "      <td>POLYGON ((11399069.738 -13984.932, 11399069.73...</td>\n",
       "      <td>-0.125629</td>\n",
       "      <td>102.399577</td>\n",
       "      <td>2019-09-01</td>\n",
       "      <td>2019-09-01</td>\n",
       "      <td>0 days 00:00:00.000000000</td>\n",
       "      <td>3</td>\n",
       "    </tr>\n",
       "    <tr>\n",
       "      <th>4</th>\n",
       "      <td>2019/09/01</td>\n",
       "      <td>POLYGON ((11400434.139 -14038.438, 11400434.13...</td>\n",
       "      <td>-0.126109</td>\n",
       "      <td>102.411833</td>\n",
       "      <td>2019-09-01</td>\n",
       "      <td>2019-09-01</td>\n",
       "      <td>0 days 00:00:00.000000000</td>\n",
       "      <td>4</td>\n",
       "    </tr>\n",
       "  </tbody>\n",
       "</table>\n",
       "</div>"
      ],
      "text/plain": [
       "    datestamp                                           geometry       lat  \\\n",
       "0  2019/09/01  POLYGON ((11371380.424 47734.603, 11371380.419...  0.428803   \n",
       "1  2019/09/01  POLYGON ((11371514.189 47386.805, 11371514.184...  0.425679   \n",
       "2  2019/09/01  POLYGON ((11399899.079 -14065.191, 11399899.07... -0.126350   \n",
       "3  2019/09/01  POLYGON ((11399069.738 -13984.932, 11399069.73... -0.125629   \n",
       "4  2019/09/01  POLYGON ((11400434.139 -14038.438, 11400434.13... -0.126109   \n",
       "\n",
       "          lon    end_date  start_date                     period  id_truth  \n",
       "0  102.150839  2019-09-01  2019-09-01  0 days 00:00:00.000000000         0  \n",
       "1  102.152041  2019-09-01  2019-09-01  0 days 00:00:00.000000000         1  \n",
       "2  102.407027  2019-09-01  2019-09-01  0 days 00:00:00.000000000         2  \n",
       "3  102.399577  2019-09-01  2019-09-01  0 days 00:00:00.000000000         3  \n",
       "4  102.411833  2019-09-01  2019-09-01  0 days 00:00:00.000000000         4  "
      ]
     },
     "execution_count": 15,
     "metadata": {},
     "output_type": "execute_result"
    }
   ],
   "source": [
    "#assign unique id for the id of the ground truth data\n",
    "truth_gdf['id_truth'] = truth_gdf.index\n",
    "truth_gdf.head()"
   ]
  },
  {
   "cell_type": "code",
   "execution_count": 16,
   "metadata": {},
   "outputs": [],
   "source": [
    "#overlay both groundtruth and hotspot grid data\n",
    "overlaid_gdf_ungrp = geopandas.overlay(truth_gdf, hs_df_clipped, how='union')"
   ]
  },
  {
   "cell_type": "code",
   "execution_count": 17,
   "metadata": {},
   "outputs": [
    {
     "data": {
      "text/html": [
       "<div>\n",
       "<style scoped>\n",
       "    .dataframe tbody tr th:only-of-type {\n",
       "        vertical-align: middle;\n",
       "    }\n",
       "\n",
       "    .dataframe tbody tr th {\n",
       "        vertical-align: top;\n",
       "    }\n",
       "\n",
       "    .dataframe thead th {\n",
       "        text-align: right;\n",
       "    }\n",
       "</style>\n",
       "<table border=\"1\" class=\"dataframe\">\n",
       "  <thead>\n",
       "    <tr style=\"text-align: right;\">\n",
       "      <th></th>\n",
       "      <th>datestamp</th>\n",
       "      <th>lat</th>\n",
       "      <th>lon</th>\n",
       "      <th>end_date</th>\n",
       "      <th>start_date</th>\n",
       "      <th>period</th>\n",
       "      <th>id_truth</th>\n",
       "      <th>polar_weight</th>\n",
       "      <th>geo_weight</th>\n",
       "      <th>weight</th>\n",
       "      <th>sat_date</th>\n",
       "      <th>id_grid</th>\n",
       "      <th>geometry</th>\n",
       "    </tr>\n",
       "  </thead>\n",
       "  <tbody>\n",
       "    <tr>\n",
       "      <th>0</th>\n",
       "      <td>2019/09/01</td>\n",
       "      <td>0.428803</td>\n",
       "      <td>102.150839</td>\n",
       "      <td>2019-09-01</td>\n",
       "      <td>2019-09-01</td>\n",
       "      <td>0 days 00:00:00.000000000</td>\n",
       "      <td>0.0</td>\n",
       "      <td>0.1600</td>\n",
       "      <td>0.0</td>\n",
       "      <td>0.08000</td>\n",
       "      <td>2019/09/06</td>\n",
       "      <td>741529.0</td>\n",
       "      <td>POLYGON ((11371380.424 47734.603, 11371380.419...</td>\n",
       "    </tr>\n",
       "    <tr>\n",
       "      <th>1</th>\n",
       "      <td>2019/09/01</td>\n",
       "      <td>0.425679</td>\n",
       "      <td>102.152041</td>\n",
       "      <td>2019-09-01</td>\n",
       "      <td>2019-09-01</td>\n",
       "      <td>0 days 00:00:00.000000000</td>\n",
       "      <td>1.0</td>\n",
       "      <td>0.1600</td>\n",
       "      <td>0.0</td>\n",
       "      <td>0.08000</td>\n",
       "      <td>2019/09/06</td>\n",
       "      <td>741529.0</td>\n",
       "      <td>POLYGON ((11371514.189 47386.805, 11371514.184...</td>\n",
       "    </tr>\n",
       "    <tr>\n",
       "      <th>2</th>\n",
       "      <td>2019/09/06</td>\n",
       "      <td>0.431699</td>\n",
       "      <td>102.150261</td>\n",
       "      <td>2019-09-06</td>\n",
       "      <td>2019-09-06</td>\n",
       "      <td>0 days 00:00:00.000000000</td>\n",
       "      <td>1107.0</td>\n",
       "      <td>0.1600</td>\n",
       "      <td>0.0</td>\n",
       "      <td>0.08000</td>\n",
       "      <td>2019/09/06</td>\n",
       "      <td>741529.0</td>\n",
       "      <td>POLYGON ((11371316.016 48056.943, 11371316.011...</td>\n",
       "    </tr>\n",
       "    <tr>\n",
       "      <th>3</th>\n",
       "      <td>2019/09/08</td>\n",
       "      <td>0.430448</td>\n",
       "      <td>102.153402</td>\n",
       "      <td>2019-09-08</td>\n",
       "      <td>2019-09-08</td>\n",
       "      <td>0 days 00:00:00.000000000</td>\n",
       "      <td>1298.0</td>\n",
       "      <td>0.1600</td>\n",
       "      <td>0.0</td>\n",
       "      <td>0.08000</td>\n",
       "      <td>2019/09/06</td>\n",
       "      <td>741529.0</td>\n",
       "      <td>POLYGON ((11371665.739 47917.750, 11371665.735...</td>\n",
       "    </tr>\n",
       "    <tr>\n",
       "      <th>4</th>\n",
       "      <td>2019/09/01</td>\n",
       "      <td>0.428803</td>\n",
       "      <td>102.150839</td>\n",
       "      <td>2019-09-01</td>\n",
       "      <td>2019-09-01</td>\n",
       "      <td>0 days 00:00:00.000000000</td>\n",
       "      <td>0.0</td>\n",
       "      <td>0.1375</td>\n",
       "      <td>0.0</td>\n",
       "      <td>0.06875</td>\n",
       "      <td>2019/09/12</td>\n",
       "      <td>856764.0</td>\n",
       "      <td>POLYGON ((11371380.424 47734.603, 11371380.419...</td>\n",
       "    </tr>\n",
       "  </tbody>\n",
       "</table>\n",
       "</div>"
      ],
      "text/plain": [
       "    datestamp       lat         lon    end_date  start_date  \\\n",
       "0  2019/09/01  0.428803  102.150839  2019-09-01  2019-09-01   \n",
       "1  2019/09/01  0.425679  102.152041  2019-09-01  2019-09-01   \n",
       "2  2019/09/06  0.431699  102.150261  2019-09-06  2019-09-06   \n",
       "3  2019/09/08  0.430448  102.153402  2019-09-08  2019-09-08   \n",
       "4  2019/09/01  0.428803  102.150839  2019-09-01  2019-09-01   \n",
       "\n",
       "                      period  id_truth  polar_weight  geo_weight   weight  \\\n",
       "0  0 days 00:00:00.000000000       0.0        0.1600         0.0  0.08000   \n",
       "1  0 days 00:00:00.000000000       1.0        0.1600         0.0  0.08000   \n",
       "2  0 days 00:00:00.000000000    1107.0        0.1600         0.0  0.08000   \n",
       "3  0 days 00:00:00.000000000    1298.0        0.1600         0.0  0.08000   \n",
       "4  0 days 00:00:00.000000000       0.0        0.1375         0.0  0.06875   \n",
       "\n",
       "     sat_date   id_grid                                           geometry  \n",
       "0  2019/09/06  741529.0  POLYGON ((11371380.424 47734.603, 11371380.419...  \n",
       "1  2019/09/06  741529.0  POLYGON ((11371514.189 47386.805, 11371514.184...  \n",
       "2  2019/09/06  741529.0  POLYGON ((11371316.016 48056.943, 11371316.011...  \n",
       "3  2019/09/06  741529.0  POLYGON ((11371665.739 47917.750, 11371665.735...  \n",
       "4  2019/09/12  856764.0  POLYGON ((11371380.424 47734.603, 11371380.419...  "
      ]
     },
     "execution_count": 17,
     "metadata": {},
     "output_type": "execute_result"
    }
   ],
   "source": [
    "overlaid_gdf_ungrp.head()"
   ]
  },
  {
   "cell_type": "code",
   "execution_count": 18,
   "metadata": {},
   "outputs": [],
   "source": [
    "overlaid_gdf_ungrp.to_file('../../data/interim/multisat_grid_apr_sep_2019_hs_1m_clipped_gtruth_union.geojson', driver='GeoJSON')"
   ]
  },
  {
   "cell_type": "code",
   "execution_count": 19,
   "metadata": {},
   "outputs": [],
   "source": [
    "overlaid_gdf_ungrp = geopandas.read_file('../../data/interim/multisat_grid_apr_sep_2019_hs_1m_clipped_gtruth_union.geojson')"
   ]
  },
  {
   "cell_type": "code",
   "execution_count": 20,
   "metadata": {},
   "outputs": [
    {
     "data": {
      "text/plain": [
       "array(['2019-09-01', '2019-09-06', '2019-09-08', '2019-09-05',\n",
       "       '2019-09-07', '2019-09-09', '2019-09-22', '2019-09-02',\n",
       "       '2019-09-03', '2019-09-04', '2019-09-11', '2019-09-20',\n",
       "       '2019-09-30', '2019-09-21', '2019-09-25', '2019-09-27',\n",
       "       '2019-09-10', '2019-09-17', '2019-09-19', '2019-09-18',\n",
       "       '2019-09-12', '2019-09-23', '2019-09-26', '2019-09-24',\n",
       "       '2019-09-29', '2019-09-14', '2019-09-15', '2019-09-28',\n",
       "       '2019-09-13', '2019-09-16', '2019-04-02', '2019-04-01',\n",
       "       '2019-04-06', '2019-04-22', '2019-04-18', '2019-04-04',\n",
       "       '2019-04-05', '2019-04-08', '2019-04-07', '2019-04-14',\n",
       "       '2019-04-13', '2019-04-21', '2019-04-26', '2019-04-19',\n",
       "       '2019-04-23', '2019-04-03', '2019-04-09', '2019-04-24',\n",
       "       '2019-04-25', '2019-04-29', '2019-04-11', '2019-04-30',\n",
       "       '2019-04-12', '2019-04-20', '2019-04-15', '2019-04-16',\n",
       "       '2019-04-10', '2019-04-17', '2019-04-28', '2019-04-27', None],\n",
       "      dtype=object)"
      ]
     },
     "execution_count": 20,
     "metadata": {},
     "output_type": "execute_result"
    }
   ],
   "source": [
    "#check if ground truth date is valid\n",
    "overlaid_gdf_ungrp['datestamp'].unique()"
   ]
  },
  {
   "cell_type": "code",
   "execution_count": 21,
   "metadata": {},
   "outputs": [
    {
     "data": {
      "text/plain": [
       "array(['2019-09-06', '2019-09-12', '2019-09-08', '2019-09-01',\n",
       "       '2019-09-03', '2019-09-02', '2019-09-07', '2019-09-11',\n",
       "       '2019-09-09', '2019-09-05', '2019-09-04', '2019-09-10',\n",
       "       '2019-09-13', '2019-09-21', '2019-09-18', '2019-09-22',\n",
       "       '2019-09-14', '2019-09-20', '2019-09-23', '2019-09-16',\n",
       "       '2019-09-15', '2019-09-26', '2019-09-17', '2019-09-27',\n",
       "       '2019-09-19', '2019-04-29', '2019-09-30', '2019-09-28',\n",
       "       '2019-09-24', '2019-09-25', '2019-09-29', '2019-04-06',\n",
       "       '2019-04-10', '2019-04-07', '2019-04-09', '2019-04-01',\n",
       "       '2019-04-08', '2019-04-14', '2019-04-19', '2019-04-04',\n",
       "       '2019-04-03', '2019-04-05', '2019-04-18', '2019-04-23',\n",
       "       '2019-04-16', '2019-04-15', '2019-04-21', '2019-04-17',\n",
       "       '2019-04-20', '2019-04-22', '2019-04-28', '2019-04-26',\n",
       "       '2019-04-30', '2019-04-12', '2019-04-24', '2019-04-13',\n",
       "       '2019-04-02', '2019-04-11', '2019-04-27', '2019-04-25', None],\n",
       "      dtype=object)"
      ]
     },
     "execution_count": 21,
     "metadata": {},
     "output_type": "execute_result"
    }
   ],
   "source": [
    "#check if hotspot grid date is valid\n",
    "overlaid_gdf_ungrp['sat_date'].unique()"
   ]
  },
  {
   "cell_type": "code",
   "execution_count": 22,
   "metadata": {},
   "outputs": [],
   "source": [
    "#initialize with nan\n",
    "overlaid_gdf_ungrp['truth_flag'] = np.nan"
   ]
  },
  {
   "cell_type": "code",
   "execution_count": 23,
   "metadata": {},
   "outputs": [],
   "source": [
    "#remove data points if date of detected hs is not the same as date of ground truth data\n",
    "filter_valid_union = overlaid_gdf_ungrp['sat_date'].notna() & overlaid_gdf_ungrp['datestamp'].notna()\n",
    "filter_same_date = overlaid_gdf_ungrp['sat_date'] == overlaid_gdf_ungrp['datestamp']\n",
    "combined_gdf_clean = overlaid_gdf_ungrp.drop(overlaid_gdf_ungrp[filter_valid_union & (~filter_same_date)].index, axis=0)"
   ]
  },
  {
   "cell_type": "code",
   "execution_count": 24,
   "metadata": {},
   "outputs": [],
   "source": [
    "#set flag of label coinciding hotspots with same date to 1\n",
    "combined_gdf_clean.loc[combined_gdf_clean['sat_date'] == combined_gdf_clean['datestamp'], 'truth_flag'] = 1\n",
    "#Set to -1 for missed detections\n",
    "combined_gdf_clean.loc[combined_gdf_clean['id_grid'].isna(), 'truth_flag'] = -1\n",
    "#Set to 0 for false alarm\n",
    "combined_gdf_clean.loc[combined_gdf_clean['id_truth'].isna(), 'truth_flag'] = 0"
   ]
  },
  {
   "cell_type": "code",
   "execution_count": 25,
   "metadata": {},
   "outputs": [],
   "source": [
    "#get hits and false alarm, avoid double counting of hits (only count as one hit even if hs coincides with multiple ground truth)\n",
    "#this however will kick away all the missed detections\n",
    "combined_gdf_clean_hits_falsealarms = combined_gdf_clean.drop_duplicates(subset=['id_grid'], keep='first')"
   ]
  },
  {
   "cell_type": "code",
   "execution_count": 26,
   "metadata": {},
   "outputs": [],
   "source": [
    "combined_gdf_clean_hits_falsealarms = combined_gdf_clean_hits_falsealarms.loc[~combined_gdf_clean['id_grid'].isna()]"
   ]
  },
  {
   "cell_type": "code",
   "execution_count": 27,
   "metadata": {},
   "outputs": [
    {
     "data": {
      "text/plain": [
       "<matplotlib.axes._subplots.AxesSubplot at 0x1c22a9aee88>"
      ]
     },
     "execution_count": 27,
     "metadata": {},
     "output_type": "execute_result"
    },
    {
     "data": {
      "image/png": "[encoded data removed]",
      "text/plain": [
       "<Figure size 432x288 with 1 Axes>"
      ]
     },
     "metadata": {
      "needs_background": "light"
     },
     "output_type": "display_data"
    }
   ],
   "source": [
    "combined_gdf_clean_hits_falsealarms['truth_flag'].hist()"
   ]
  },
  {
   "cell_type": "code",
   "execution_count": 28,
   "metadata": {},
   "outputs": [],
   "source": [
    "#If a ground truth data has been identified as a hit, it shouldn't be considered as a missed detection anymore. \n",
    "#special handling due to union operation, get the list of ground truth data which has been identified as a hit\n",
    "hits_id_truth_list = combined_gdf_clean_hits_falsealarms.loc[combined_gdf_clean_hits_falsealarms['truth_flag'] == 1, 'id_truth'].unique()"
   ]
  },
  {
   "cell_type": "code",
   "execution_count": 29,
   "metadata": {},
   "outputs": [],
   "source": [
    "#get missed detections\n",
    "combined_gdf_clean_missed_detections = combined_gdf_clean[combined_gdf_clean['id_grid'].isna()].copy()\n",
    "#remove redundant ground truth data misidentified as missed detections\n",
    "combined_gdf_clean_missed_detections = combined_gdf_clean_missed_detections[~combined_gdf_clean_missed_detections['id_truth'].isin(hits_id_truth_list)].copy()"
   ]
  },
  {
   "cell_type": "code",
   "execution_count": 30,
   "metadata": {},
   "outputs": [],
   "source": [
    "combined_gdf_clean_dup_removed = pd.concat([combined_gdf_clean_hits_falsealarms, combined_gdf_clean_missed_detections]).drop_duplicates()"
   ]
  },
  {
   "cell_type": "code",
   "execution_count": 31,
   "metadata": {},
   "outputs": [
    {
     "name": "stdout",
     "output_type": "stream",
     "text": [
      "Data is clean. No double counting of missed detections.\n"
     ]
    }
   ],
   "source": [
    "#check if double count missed detection or not\n",
    "try:\n",
    "    assert combined_gdf_clean_dup_removed.loc[combined_gdf_clean_dup_removed['id_grid'].isna()].duplicated(subset=['id_truth'], keep=False).sum() == 0.0\n",
    "    print ('Data is clean. No double counting of missed detections.')\n",
    "except:\n",
    "    print ('There are duplicated records!')"
   ]
  },
  {
   "cell_type": "code",
   "execution_count": 32,
   "metadata": {},
   "outputs": [
    {
     "name": "stdout",
     "output_type": "stream",
     "text": [
      "Data is clean. No misclassified missed detections.\n"
     ]
    }
   ],
   "source": [
    "#check if there are no misclassified missed detections\n",
    "try:\n",
    "    assert combined_gdf_clean_dup_removed.loc[combined_gdf_clean_dup_removed['id_truth'].isin(hits_id_truth_list), 'id_grid'].isna().sum() == 0.0\n",
    "    print ('Data is clean. No misclassified missed detections.')\n",
    "except:\n",
    "    print ('There are duplicated records!')"
   ]
  },
  {
   "cell_type": "code",
   "execution_count": 33,
   "metadata": {},
   "outputs": [
    {
     "data": {
      "text/plain": [
       "<matplotlib.axes._subplots.AxesSubplot at 0x1c220459b88>"
      ]
     },
     "execution_count": 33,
     "metadata": {},
     "output_type": "execute_result"
    },
    {
     "data": {
      "image/png": "[encoded data removed]",
      "text/plain": [
       "<Figure size 432x288 with 1 Axes>"
      ]
     },
     "metadata": {
      "needs_background": "light"
     },
     "output_type": "display_data"
    }
   ],
   "source": [
    "combined_gdf_clean_dup_removed['truth_flag'].hist()"
   ]
  },
  {
   "cell_type": "code",
   "execution_count": 34,
   "metadata": {},
   "outputs": [],
   "source": [
    "combined_gdf_clean_dup_removed.to_file('../../data/interim/multisat_grid_1m_buffer_apr_sep_2019_clean.geojson', driver='GeoJSON')"
   ]
  },
  {
   "cell_type": "code",
   "execution_count": null,
   "metadata": {},
   "outputs": [],
   "source": []
  }
 ],
 "metadata": {
  "kernelspec": {
   "display_name": "Python 3",
   "language": "python",
   "name": "python3"
  },
  "language_info": {
   "codemirror_mode": {
    "name": "ipython",
    "version": 3
   },
   "file_extension": ".py",
   "mimetype": "text/x-python",
   "name": "python",
   "nbconvert_exporter": "python",
   "pygments_lexer": "ipython3",
   "version": "3.7.6"
  }
 },
 "nbformat": 4,
 "nbformat_minor": 2
}
