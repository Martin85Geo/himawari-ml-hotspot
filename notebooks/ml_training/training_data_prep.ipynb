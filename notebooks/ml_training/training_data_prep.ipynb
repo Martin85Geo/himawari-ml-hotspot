{
 "cells": [
  {
   "cell_type": "code",
   "execution_count": 2,
   "metadata": {},
   "outputs": [],
   "source": [
    "%matplotlib inline\n",
    "import logging\n",
    "import numpy as np\n",
    "import pandas as pd\n",
    "import geopandas\n",
    "import glob\n",
    "import os\n",
    "from pyorbital import astronomy\n",
    "from datetime import datetime, timedelta\n",
    "from shapely import geometry"
   ]
  },
  {
   "cell_type": "markdown",
   "metadata": {},
   "source": [
    "## Data Preparation"
   ]
  },
  {
   "cell_type": "code",
   "execution_count": 3,
   "metadata": {},
   "outputs": [],
   "source": [
    "def compute_sun_glint_angle(sat_angle):\n",
    "    \"\"\"Compute the sun glint angle. Sun glint angle is defined as the angle difference between reflected solar beam and\n",
    "    the satellite view/zenith angle, from the satellite reference frame. If the angle is small, it means that the\n",
    "    reflected solar beam is seen by the satellite as sun glint.\n",
    "\n",
    "    The eqn of sun glint is\n",
    "        cos (theta_g) = cos (theta_v) * cos (theta_s) - sin (theta_v) * sin (theta_s) * cos (phi), where\n",
    "        theta_g = sun glint angle, theta_v = satellite view/zenith angle, theta_s = solar zenith angle,\n",
    "        phi = relative azimuth angle (difference between solar and satellite azimuth angle)\n",
    "\n",
    "    For more info, refer to \"An Enhanced Contextual Fire Detection Algorithm for MODIS\" by Louis Giglio et al 2003\n",
    "    https://doi.org/10.1016/S0034-4257(03)00184-6\n",
    "\n",
    "    Args:\n",
    "        sat_angle (dict): Dict of satellite angles: {\n",
    "                        'viewzenang' (float): satellite view/zenith angle,\n",
    "                        'solarzenang' (float): solar zenith angle,\n",
    "                        'relazang' (float): relative azimuth angle ,\n",
    "                         }\n",
    "\n",
    "    Returns:\n",
    "        sun_glint_angle (float): Angle of sun glint in degrees\n",
    "\n",
    "    \"\"\"\n",
    "    theta_v = np.radians(sat_angle['viewzenang'])\n",
    "    theta_s = np.radians(sat_angle['solarzenang'])\n",
    "    phi = np.radians(sat_angle['relazang'])\n",
    "    cos_sunglint = np.cos(theta_v) * np.cos(theta_s) - (np.sin(theta_v) * np.sin(theta_s) * np.cos(phi))\n",
    "    sun_glint_rad = np.arccos(cos_sunglint)\n",
    "    sun_glint_angle = np.degrees(sun_glint_rad)\n",
    "\n",
    "    return sun_glint_angle"
   ]
  },
  {
   "cell_type": "code",
   "execution_count": 4,
   "metadata": {},
   "outputs": [],
   "source": [
    "def parse_jaxa_hotspot_txt(file_path):\n",
    "    \"\"\"\n",
    "    Parse the JAXA Himawari-8/9 AHI hotspot text file and insert attrs into the Pandas DataFrame\n",
    "\n",
    "    Args:\n",
    "        file_path (str): File path to the JAXA Himawari-8/9 hotspot .csv\n",
    "          \n",
    "    Returns:\n",
    "        hs_df (obj): DataFrame obj that contains attr of Himawari-8/9 hospot\n",
    "        \n",
    "    \"\"\"\n",
    "    hs_ahi_df = pd.DataFrame()\n",
    "    cols_to_use_list = [0, 2, *(i for i in range(7,27))]\n",
    "    date_col_list = [0]\n",
    "    names_list = ['date', 'satellite', 'lon', 'lat', 'viewzenang', 'viewazang', 'pixwid', 'pixlen', 't07',   \n",
    "                  't14', 't07_t14', 'meant07', 'meant14', 'meandt', 'sdt07', 'sdt14', 'sddt', \n",
    "                  'ref3', 'ref4', 'fire_idx', 'fire', 'test1_6']\n",
    "        \n",
    "\n",
    "    for file in glob.glob(file_path):\n",
    "            \n",
    "        try:\n",
    "            print (f'Reading {file}')\n",
    "            temp_hs_ahi_df = pd.read_csv(file, sep=\",\", skiprows=[0], \\\n",
    "                                         header=None, usecols=cols_to_use_list, \\\n",
    "                                         names=names_list, \\\n",
    "                                         parse_dates=date_col_list)\n",
    "            temp_hs_ahi_df['satellite'] = 'Himawari-8/9'\n",
    "        except Exception as e:\n",
    "            print (f'Error reading {file}')\n",
    "            print (e)\n",
    "            continue\n",
    "\n",
    "        if len(temp_hs_ahi_df) > 0:\n",
    "                   \n",
    "            try:\n",
    "                temp_hs_ahi_df['solarazang'] = temp_hs_ahi_df.apply( \\\n",
    "                    lambda x: np.degrees(astronomy.get_alt_az(x['date'], x['lon'], x['lat'])[1]), axis=1)\n",
    "                temp_hs_ahi_df['solarzenang'] = temp_hs_ahi_df.apply( \\\n",
    "                    lambda x: astronomy.sun_zenith_angle(x['date'], x['lon'], x['lat']), axis=1)\n",
    "                temp_hs_ahi_df['relazang'] = temp_hs_ahi_df['solarazang'] - temp_hs_ahi_df['viewazang']\n",
    "                temp_hs_ahi_df['sunglint_angle'] = temp_hs_ahi_df.apply(compute_sun_glint_angle, axis=1)\n",
    "            except Exception as e:\n",
    "                temp_hs_ahi_df['sunglint_angle'] = np.nan\n",
    "                \n",
    "            try:\n",
    "                temp_hs_ahi_df.loc[(temp_hs_ahi_df['date'].dt.hour >= 0) \\\n",
    "                                   & (temp_hs_ahi_df['date'].dt.hour <= 11), 'daynight'] = 'day'\n",
    "                temp_hs_ahi_df.loc[temp_hs_ahi_df['date'].dt.hour > 11, \\\n",
    "                                   'daynight'] = 'night'\n",
    "                temp_hs_ahi_df['date'] = temp_hs_ahi_df['date'].dt.strftime( \\\n",
    "                    \"%d/%m/%Y %H:%M:%S\")\n",
    "            except Exception as e:\n",
    "                date_from_file = datetime.strptime(filename[4:17], \"%Y%m%d_%H%M\")\n",
    "                temp_hs_ahi_df['date'] = date_from_file.strftime(\"%d/%m/%Y %H:%M:%S\")\n",
    "\n",
    "        hs_ahi_df = pd.concat([hs_ahi_df, temp_hs_ahi_df])\n",
    "\n",
    "    if len(hs_ahi_df) > 0:\n",
    "        hs_ahi_df = hs_ahi_df.reset_index(drop=True)\n",
    "\n",
    "    return hs_ahi_df"
   ]
  },
  {
   "cell_type": "code",
   "execution_count": null,
   "metadata": {},
   "outputs": [],
   "source": [
    "hs_df_apr = parse_jaxa_hotspot_txt(file_path=\"../../data/raw/hotspots/ahi/H08_20190[4]*_0[2-7]*_L2WLFbet_FLDK*.csv\")"
   ]
  },
  {
   "cell_type": "code",
   "execution_count": null,
   "metadata": {},
   "outputs": [],
   "source": [
    "hs_df_sep = parse_jaxa_hotspot_txt(file_path=\"../../data/raw/hotspots/ahi/H08_20190[9]*_0[2-7]*_L2WLFbet_FLDK*.csv\")"
   ]
  },
  {
   "cell_type": "code",
   "execution_count": null,
   "metadata": {},
   "outputs": [],
   "source": [
    "hs_df =  pd.concat([hs_df_apr, hs_df_sep])"
   ]
  },
  {
   "cell_type": "code",
   "execution_count": 4,
   "metadata": {},
   "outputs": [],
   "source": [
    "hs_df = pd.read_csv(\"../../data/raw/hotspots/pd_df_ahi_apr_sep_2019.csv\")"
   ]
  },
  {
   "cell_type": "code",
   "execution_count": 5,
   "metadata": {},
   "outputs": [],
   "source": [
    "hs_df['date'] = pd.to_datetime(hs_df['date'], format='%d/%m/%Y %H:%M:%S')"
   ]
  },
  {
   "cell_type": "markdown",
   "metadata": {},
   "source": [
    "The ground truth data is collected based on satellite imageries from TERRA, Sentinel-2, NPP, AQUA, NOAA-20 imageries. We make the following assumptions:\n",
    "\n",
    "* Fire persists non-stop from 0230 to 0730 UTC\n",
    "\n",
    "Thus, we only look at fire hotspot data in between this period for validation and training."
   ]
  },
  {
   "cell_type": "code",
   "execution_count": 6,
   "metadata": {},
   "outputs": [],
   "source": [
    "from datetime import time, datetime\n",
    "start_time = time(2, 30, 0)\n",
    "end_time = time(7, 30, 0)\n",
    "time_filter = (hs_df['date'].dt.time >= start_time) & (hs_df['date'].dt.time <= end_time)\n",
    "hs_df_short = hs_df[time_filter]"
   ]
  },
  {
   "cell_type": "code",
   "execution_count": 7,
   "metadata": {},
   "outputs": [],
   "source": [
    "hs_df_short.reset_index(inplace=True, drop=True)"
   ]
  },
  {
   "cell_type": "code",
   "execution_count": 8,
   "metadata": {},
   "outputs": [],
   "source": [
    "#convert to GeoDataFrame\n",
    "hs_gdf = geopandas.GeoDataFrame(hs_df_short, geometry=geopandas.points_from_xy(hs_df_short.lon, hs_df_short.lat))"
   ]
  },
  {
   "cell_type": "code",
   "execution_count": 9,
   "metadata": {},
   "outputs": [],
   "source": [
    "#Change to Mercator (metres) projection as we need to adjust the buffer in metres\n",
    "hs_gdf.crs = {'init': 'epsg:4326'}\n",
    "hs_gdf = hs_gdf.to_crs({'init': 'epsg:3857'})"
   ]
  },
  {
   "cell_type": "markdown",
   "metadata": {},
   "source": [
    "`overlay` only works when for polygon-polygon and not for point-polygon pair. Thus we need to convert the hotspot point coordinate to a polygon."
   ]
  },
  {
   "cell_type": "code",
   "execution_count": 10,
   "metadata": {},
   "outputs": [],
   "source": [
    "#convert point to polygon\n",
    "hs_gdf.geometry = hs_gdf.buffer(1)"
   ]
  },
  {
   "cell_type": "code",
   "execution_count": 11,
   "metadata": {},
   "outputs": [],
   "source": [
    "truth_df = pd.read_csv('../../references/ground_truth/processed/daily_ground_truth_Apr_Sep_2019.csv')"
   ]
  },
  {
   "cell_type": "code",
   "execution_count": 12,
   "metadata": {},
   "outputs": [
    {
     "data": {
      "text/html": [
       "<div>\n",
       "<style scoped>\n",
       "    .dataframe tbody tr th:only-of-type {\n",
       "        vertical-align: middle;\n",
       "    }\n",
       "\n",
       "    .dataframe tbody tr th {\n",
       "        vertical-align: top;\n",
       "    }\n",
       "\n",
       "    .dataframe thead th {\n",
       "        text-align: right;\n",
       "    }\n",
       "</style>\n",
       "<table border=\"1\" class=\"dataframe\">\n",
       "  <thead>\n",
       "    <tr style=\"text-align: right;\">\n",
       "      <th></th>\n",
       "      <th>Unnamed: 0</th>\n",
       "      <th>datestamp</th>\n",
       "      <th>geometry</th>\n",
       "      <th>lat</th>\n",
       "      <th>lon</th>\n",
       "      <th>end_date</th>\n",
       "      <th>start_date</th>\n",
       "      <th>period</th>\n",
       "    </tr>\n",
       "  </thead>\n",
       "  <tbody>\n",
       "    <tr>\n",
       "      <th>0</th>\n",
       "      <td>0</td>\n",
       "      <td>2019/09/01</td>\n",
       "      <td>POINT (11371379.4241247 47734.60307035755)</td>\n",
       "      <td>0.428803</td>\n",
       "      <td>102.150839</td>\n",
       "      <td>2019-09-01</td>\n",
       "      <td>2019-09-01</td>\n",
       "      <td>0 days 00:00:00.000000000</td>\n",
       "    </tr>\n",
       "    <tr>\n",
       "      <th>1</th>\n",
       "      <td>1</td>\n",
       "      <td>2019/09/01</td>\n",
       "      <td>POINT (11371513.1889242 47386.80492229513)</td>\n",
       "      <td>0.425679</td>\n",
       "      <td>102.152041</td>\n",
       "      <td>2019-09-01</td>\n",
       "      <td>2019-09-01</td>\n",
       "      <td>0 days 00:00:00.000000000</td>\n",
       "    </tr>\n",
       "    <tr>\n",
       "      <th>2</th>\n",
       "      <td>2</td>\n",
       "      <td>2019/09/01</td>\n",
       "      <td>POINT (11399898.0793779 -14065.19130801257)</td>\n",
       "      <td>-0.126350</td>\n",
       "      <td>102.407027</td>\n",
       "      <td>2019-09-01</td>\n",
       "      <td>2019-09-01</td>\n",
       "      <td>0 days 00:00:00.000000000</td>\n",
       "    </tr>\n",
       "    <tr>\n",
       "      <th>3</th>\n",
       "      <td>3</td>\n",
       "      <td>2019/09/01</td>\n",
       "      <td>POINT (11399068.73762101 -13984.93223427522)</td>\n",
       "      <td>-0.125629</td>\n",
       "      <td>102.399577</td>\n",
       "      <td>2019-09-01</td>\n",
       "      <td>2019-09-01</td>\n",
       "      <td>0 days 00:00:00.000000000</td>\n",
       "    </tr>\n",
       "    <tr>\n",
       "      <th>4</th>\n",
       "      <td>4</td>\n",
       "      <td>2019/09/01</td>\n",
       "      <td>POINT (11400433.1385759 -14038.43828318712)</td>\n",
       "      <td>-0.126109</td>\n",
       "      <td>102.411833</td>\n",
       "      <td>2019-09-01</td>\n",
       "      <td>2019-09-01</td>\n",
       "      <td>0 days 00:00:00.000000000</td>\n",
       "    </tr>\n",
       "  </tbody>\n",
       "</table>\n",
       "</div>"
      ],
      "text/plain": [
       "   Unnamed: 0   datestamp                                      geometry  \\\n",
       "0           0  2019/09/01    POINT (11371379.4241247 47734.60307035755)   \n",
       "1           1  2019/09/01    POINT (11371513.1889242 47386.80492229513)   \n",
       "2           2  2019/09/01   POINT (11399898.0793779 -14065.19130801257)   \n",
       "3           3  2019/09/01  POINT (11399068.73762101 -13984.93223427522)   \n",
       "4           4  2019/09/01   POINT (11400433.1385759 -14038.43828318712)   \n",
       "\n",
       "        lat         lon    end_date  start_date                     period  \n",
       "0  0.428803  102.150839  2019-09-01  2019-09-01  0 days 00:00:00.000000000  \n",
       "1  0.425679  102.152041  2019-09-01  2019-09-01  0 days 00:00:00.000000000  \n",
       "2 -0.126350  102.407027  2019-09-01  2019-09-01  0 days 00:00:00.000000000  \n",
       "3 -0.125629  102.399577  2019-09-01  2019-09-01  0 days 00:00:00.000000000  \n",
       "4 -0.126109  102.411833  2019-09-01  2019-09-01  0 days 00:00:00.000000000  "
      ]
     },
     "execution_count": 12,
     "metadata": {},
     "output_type": "execute_result"
    }
   ],
   "source": [
    "truth_df.head()"
   ]
  },
  {
   "cell_type": "code",
   "execution_count": 13,
   "metadata": {},
   "outputs": [],
   "source": [
    "truth_df.drop(columns=[\"Unnamed: 0\"], inplace=True)\n",
    "#convert ground truth data to Geo DataFrame\n",
    "truth_gdf = geopandas.GeoDataFrame(truth_df, geometry=geopandas.points_from_xy(truth_df.lon, truth_df.lat))"
   ]
  },
  {
   "cell_type": "code",
   "execution_count": 14,
   "metadata": {},
   "outputs": [],
   "source": [
    "truth_gdf.crs = {'init' :'epsg:4326'}\n",
    "truth_gdf = truth_gdf.to_crs({'init': 'epsg:3857'})"
   ]
  },
  {
   "cell_type": "markdown",
   "metadata": {},
   "source": [
    "The native resolution of AHI fire hotspot is 2km. We assume that buffer of 1 km is acceptable for verification."
   ]
  },
  {
   "cell_type": "code",
   "execution_count": 15,
   "metadata": {},
   "outputs": [],
   "source": [
    "truth_gdf_buffered = truth_gdf.buffer(1000)"
   ]
  },
  {
   "cell_type": "code",
   "execution_count": 16,
   "metadata": {},
   "outputs": [],
   "source": [
    "truth_gdf.geometry = truth_gdf_buffered"
   ]
  },
  {
   "cell_type": "code",
   "execution_count": 17,
   "metadata": {},
   "outputs": [
    {
     "data": {
      "text/plain": [
       "{'init': 'epsg:3857'}"
      ]
     },
     "execution_count": 17,
     "metadata": {},
     "output_type": "execute_result"
    }
   ],
   "source": [
    "#area of interest\n",
    "clip_area = geopandas.read_file('../../references/ground_truth/shapefile/aoi.shp')\n",
    "clip_area = clip_area.to_crs({'init': 'epsg:3857'})\n",
    "clip_area.crs"
   ]
  },
  {
   "cell_type": "code",
   "execution_count": 18,
   "metadata": {},
   "outputs": [],
   "source": [
    "#clip and remove hotspots outside of aoi\n",
    "hs_df_clipped = geopandas.overlay(clip_area, hs_gdf, how='intersection')"
   ]
  },
  {
   "cell_type": "code",
   "execution_count": 19,
   "metadata": {},
   "outputs": [],
   "source": [
    "hs_df_clipped.to_file('../../data/interim/h8_ml_apr_sep_2019_hs_clipped.geojson', driver='GeoJSON')"
   ]
  },
  {
   "cell_type": "markdown",
   "metadata": {},
   "source": [
    "## Data Preparation: Merging Ground Truth Data with Hotspot Data"
   ]
  },
  {
   "cell_type": "code",
   "execution_count": 20,
   "metadata": {},
   "outputs": [],
   "source": [
    "hs_df_clipped = geopandas.read_file('../../data/interim/h8_ml_apr_sep_2019_hs_clipped.geojson', driver='GeoJSON')\n",
    "truth_gdf['id_truth'] = truth_gdf.index"
   ]
  },
  {
   "cell_type": "code",
   "execution_count": 21,
   "metadata": {},
   "outputs": [
    {
     "data": {
      "text/html": [
       "<div>\n",
       "<style scoped>\n",
       "    .dataframe tbody tr th:only-of-type {\n",
       "        vertical-align: middle;\n",
       "    }\n",
       "\n",
       "    .dataframe tbody tr th {\n",
       "        vertical-align: top;\n",
       "    }\n",
       "\n",
       "    .dataframe thead th {\n",
       "        text-align: right;\n",
       "    }\n",
       "</style>\n",
       "<table border=\"1\" class=\"dataframe\">\n",
       "  <thead>\n",
       "    <tr style=\"text-align: right;\">\n",
       "      <th></th>\n",
       "      <th>datestamp</th>\n",
       "      <th>lat_1</th>\n",
       "      <th>lon_1</th>\n",
       "      <th>end_date</th>\n",
       "      <th>start_date</th>\n",
       "      <th>period</th>\n",
       "      <th>id_truth</th>\n",
       "      <th>id</th>\n",
       "      <th>Unnamed: 0</th>\n",
       "      <th>date</th>\n",
       "      <th>...</th>\n",
       "      <th>solarazang</th>\n",
       "      <th>solarzenang</th>\n",
       "      <th>sunglint_angle</th>\n",
       "      <th>t07</th>\n",
       "      <th>t07_t14</th>\n",
       "      <th>t14</th>\n",
       "      <th>test1_6</th>\n",
       "      <th>viewazang</th>\n",
       "      <th>viewzenang</th>\n",
       "      <th>geometry</th>\n",
       "    </tr>\n",
       "  </thead>\n",
       "  <tbody>\n",
       "    <tr>\n",
       "      <th>0</th>\n",
       "      <td>2019/09/01</td>\n",
       "      <td>-0.125629</td>\n",
       "      <td>102.399577</td>\n",
       "      <td>2019-09-01</td>\n",
       "      <td>2019-09-01</td>\n",
       "      <td>0 days 00:00:00.000000000</td>\n",
       "      <td>3.0</td>\n",
       "      <td>1.0</td>\n",
       "      <td>180228.0</td>\n",
       "      <td>2019-09-08T04:30:00</td>\n",
       "      <td>...</td>\n",
       "      <td>58.045181</td>\n",
       "      <td>11.247394</td>\n",
       "      <td>54.161539</td>\n",
       "      <td>320.17</td>\n",
       "      <td>21.98</td>\n",
       "      <td>298.19</td>\n",
       "      <td>'011000'</td>\n",
       "      <td>89.87</td>\n",
       "      <td>44.35</td>\n",
       "      <td>POLYGON ((11399116.857 -13358.349, 11399116.85...</td>\n",
       "    </tr>\n",
       "    <tr>\n",
       "      <th>1</th>\n",
       "      <td>2019/09/06</td>\n",
       "      <td>-0.124484</td>\n",
       "      <td>102.395798</td>\n",
       "      <td>2019-09-06</td>\n",
       "      <td>2019-09-06</td>\n",
       "      <td>0 days 00:00:00.000000000</td>\n",
       "      <td>1075.0</td>\n",
       "      <td>1.0</td>\n",
       "      <td>180228.0</td>\n",
       "      <td>2019-09-08T04:30:00</td>\n",
       "      <td>...</td>\n",
       "      <td>58.045181</td>\n",
       "      <td>11.247394</td>\n",
       "      <td>54.161539</td>\n",
       "      <td>320.17</td>\n",
       "      <td>21.98</td>\n",
       "      <td>298.19</td>\n",
       "      <td>'011000'</td>\n",
       "      <td>89.87</td>\n",
       "      <td>44.35</td>\n",
       "      <td>POLYGON ((11399116.857 -13358.349, 11399116.85...</td>\n",
       "    </tr>\n",
       "    <tr>\n",
       "      <th>2</th>\n",
       "      <td>2019/09/06</td>\n",
       "      <td>-0.127922</td>\n",
       "      <td>102.401987</td>\n",
       "      <td>2019-09-06</td>\n",
       "      <td>2019-09-06</td>\n",
       "      <td>0 days 00:00:00.000000000</td>\n",
       "      <td>1076.0</td>\n",
       "      <td>1.0</td>\n",
       "      <td>180228.0</td>\n",
       "      <td>2019-09-08T04:30:00</td>\n",
       "      <td>...</td>\n",
       "      <td>58.045181</td>\n",
       "      <td>11.247394</td>\n",
       "      <td>54.161539</td>\n",
       "      <td>320.17</td>\n",
       "      <td>21.98</td>\n",
       "      <td>298.19</td>\n",
       "      <td>'011000'</td>\n",
       "      <td>89.87</td>\n",
       "      <td>44.35</td>\n",
       "      <td>POLYGON ((11399116.857 -13358.349, 11399116.85...</td>\n",
       "    </tr>\n",
       "    <tr>\n",
       "      <th>3</th>\n",
       "      <td>2019/09/08</td>\n",
       "      <td>-0.115421</td>\n",
       "      <td>102.405331</td>\n",
       "      <td>2019-09-08</td>\n",
       "      <td>2019-09-08</td>\n",
       "      <td>0 days 00:00:00.000000000</td>\n",
       "      <td>1326.0</td>\n",
       "      <td>1.0</td>\n",
       "      <td>180228.0</td>\n",
       "      <td>2019-09-08T04:30:00</td>\n",
       "      <td>...</td>\n",
       "      <td>58.045181</td>\n",
       "      <td>11.247394</td>\n",
       "      <td>54.161539</td>\n",
       "      <td>320.17</td>\n",
       "      <td>21.98</td>\n",
       "      <td>298.19</td>\n",
       "      <td>'011000'</td>\n",
       "      <td>89.87</td>\n",
       "      <td>44.35</td>\n",
       "      <td>POLYGON ((11399116.857 -13358.349, 11399116.85...</td>\n",
       "    </tr>\n",
       "    <tr>\n",
       "      <th>4</th>\n",
       "      <td>2019/09/17</td>\n",
       "      <td>-0.111719</td>\n",
       "      <td>102.397897</td>\n",
       "      <td>2019-09-17</td>\n",
       "      <td>2019-09-17</td>\n",
       "      <td>0 days 00:00:00.000000000</td>\n",
       "      <td>6622.0</td>\n",
       "      <td>1.0</td>\n",
       "      <td>180228.0</td>\n",
       "      <td>2019-09-08T04:30:00</td>\n",
       "      <td>...</td>\n",
       "      <td>58.045181</td>\n",
       "      <td>11.247394</td>\n",
       "      <td>54.161539</td>\n",
       "      <td>320.17</td>\n",
       "      <td>21.98</td>\n",
       "      <td>298.19</td>\n",
       "      <td>'011000'</td>\n",
       "      <td>89.87</td>\n",
       "      <td>44.35</td>\n",
       "      <td>POLYGON ((11399116.857 -13358.349, 11399116.85...</td>\n",
       "    </tr>\n",
       "  </tbody>\n",
       "</table>\n",
       "<p>5 rows × 37 columns</p>\n",
       "</div>"
      ],
      "text/plain": [
       "    datestamp     lat_1       lon_1    end_date  start_date  \\\n",
       "0  2019/09/01 -0.125629  102.399577  2019-09-01  2019-09-01   \n",
       "1  2019/09/06 -0.124484  102.395798  2019-09-06  2019-09-06   \n",
       "2  2019/09/06 -0.127922  102.401987  2019-09-06  2019-09-06   \n",
       "3  2019/09/08 -0.115421  102.405331  2019-09-08  2019-09-08   \n",
       "4  2019/09/17 -0.111719  102.397897  2019-09-17  2019-09-17   \n",
       "\n",
       "                      period  id_truth   id  Unnamed: 0                 date  \\\n",
       "0  0 days 00:00:00.000000000       3.0  1.0    180228.0  2019-09-08T04:30:00   \n",
       "1  0 days 00:00:00.000000000    1075.0  1.0    180228.0  2019-09-08T04:30:00   \n",
       "2  0 days 00:00:00.000000000    1076.0  1.0    180228.0  2019-09-08T04:30:00   \n",
       "3  0 days 00:00:00.000000000    1326.0  1.0    180228.0  2019-09-08T04:30:00   \n",
       "4  0 days 00:00:00.000000000    6622.0  1.0    180228.0  2019-09-08T04:30:00   \n",
       "\n",
       "   ... solarazang  solarzenang  sunglint_angle     t07  t07_t14     t14  \\\n",
       "0  ...  58.045181    11.247394       54.161539  320.17    21.98  298.19   \n",
       "1  ...  58.045181    11.247394       54.161539  320.17    21.98  298.19   \n",
       "2  ...  58.045181    11.247394       54.161539  320.17    21.98  298.19   \n",
       "3  ...  58.045181    11.247394       54.161539  320.17    21.98  298.19   \n",
       "4  ...  58.045181    11.247394       54.161539  320.17    21.98  298.19   \n",
       "\n",
       "    test1_6  viewazang  viewzenang  \\\n",
       "0  '011000'      89.87       44.35   \n",
       "1  '011000'      89.87       44.35   \n",
       "2  '011000'      89.87       44.35   \n",
       "3  '011000'      89.87       44.35   \n",
       "4  '011000'      89.87       44.35   \n",
       "\n",
       "                                            geometry  \n",
       "0  POLYGON ((11399116.857 -13358.349, 11399116.85...  \n",
       "1  POLYGON ((11399116.857 -13358.349, 11399116.85...  \n",
       "2  POLYGON ((11399116.857 -13358.349, 11399116.85...  \n",
       "3  POLYGON ((11399116.857 -13358.349, 11399116.85...  \n",
       "4  POLYGON ((11399116.857 -13358.349, 11399116.85...  \n",
       "\n",
       "[5 rows x 37 columns]"
      ]
     },
     "execution_count": 21,
     "metadata": {},
     "output_type": "execute_result"
    }
   ],
   "source": [
    "#overlay both groundtruth and AHI hotspot data\n",
    "combined_gdf = geopandas.overlay(truth_gdf, hs_df_clipped, how='union')\n",
    "combined_gdf.head()"
   ]
  },
  {
   "cell_type": "code",
   "execution_count": 22,
   "metadata": {},
   "outputs": [],
   "source": [
    "combined_gdf.drop(columns='id', inplace=True)"
   ]
  },
  {
   "cell_type": "code",
   "execution_count": 23,
   "metadata": {},
   "outputs": [],
   "source": [
    "combined_gdf.rename(columns={'lat_1': 'lat_gt', 'lon_1': 'lon_gt', 'lat_2': 'lat', 'lon_2': 'lon', 'Unnamed: 0': 'id_hs'}, inplace=True)"
   ]
  },
  {
   "cell_type": "code",
   "execution_count": 24,
   "metadata": {},
   "outputs": [],
   "source": [
    "combined_gdf.to_file('../../data/interim/h8_ml_apr_sep_2019_hs_clipped_gtruth_union.geojson', driver='GeoJSON')"
   ]
  },
  {
   "cell_type": "markdown",
   "metadata": {},
   "source": [
    "## Data Preparation: Cleaning Combined Data"
   ]
  },
  {
   "cell_type": "code",
   "execution_count": 3,
   "metadata": {},
   "outputs": [],
   "source": [
    "#read in dataframe consists of uncleaned ground truth and raw AHI hotspot detection\n",
    "combined_gdf = geopandas.read_file('../../data/interim/h8_ml_apr_sep_2019_hs_clipped_gtruth_union.geojson')"
   ]
  },
  {
   "cell_type": "code",
   "execution_count": 4,
   "metadata": {},
   "outputs": [
    {
     "data": {
      "text/plain": [
       "array(['2019-09-01', '2019-09-06', '2019-09-08', '2019-09-17',\n",
       "       '2019-09-03', '2019-09-07', '2019-09-20', '2019-09-04',\n",
       "       '2019-09-05', '2019-09-02', '2019-09-10', '2019-09-12',\n",
       "       '2019-09-26', '2019-09-11', '2019-09-14', '2019-09-22',\n",
       "       '2019-09-30', '2019-09-19', '2019-09-16', '2019-09-13',\n",
       "       '2019-09-18', '2019-09-29', '2019-09-24', '2019-09-21',\n",
       "       '2019-09-23', '2019-09-09', '2019-09-28', '2019-09-15',\n",
       "       '2019-09-25', '2019-09-27', '2019-04-01', '2019-04-14',\n",
       "       '2019-04-18', '2019-04-04', '2019-04-05', '2019-04-06',\n",
       "       '2019-04-08', '2019-04-24', '2019-04-11', '2019-04-17',\n",
       "       '2019-04-12', '2019-04-20', '2019-04-13', '2019-04-09',\n",
       "       '2019-04-02', '2019-04-15', '2019-04-03', '2019-04-19',\n",
       "       '2019-04-23', '2019-04-22', '2019-04-26', '2019-04-10',\n",
       "       '2019-04-21', '2019-04-07', '2019-04-16', '2019-04-29',\n",
       "       '2019-04-30', '2019-04-25', '2019-04-28', '2019-04-27', None],\n",
       "      dtype=object)"
      ]
     },
     "execution_count": 4,
     "metadata": {},
     "output_type": "execute_result"
    }
   ],
   "source": [
    "#check if ground truth date is valid\n",
    "combined_gdf['datestamp'].unique()"
   ]
  },
  {
   "cell_type": "code",
   "execution_count": 5,
   "metadata": {},
   "outputs": [],
   "source": [
    "combined_gdf['date'] = pd.to_datetime(combined_gdf['date'])"
   ]
  },
  {
   "cell_type": "code",
   "execution_count": 6,
   "metadata": {},
   "outputs": [],
   "source": [
    "#initialize with nan\n",
    "combined_gdf['truth_flag'] = np.nan"
   ]
  },
  {
   "cell_type": "code",
   "execution_count": 7,
   "metadata": {},
   "outputs": [],
   "source": [
    "#remove data points if date of detected hs is not the same as date of ground truth data\n",
    "filter_valid_union = combined_gdf['date'].notna() & combined_gdf['datestamp'].notna()\n",
    "filter_same_date = combined_gdf['date'].dt.strftime('%Y-%m-%d') == combined_gdf['datestamp']\n",
    "combined_gdf_clean = combined_gdf.drop(combined_gdf[filter_valid_union & (~filter_same_date)].index, axis=0)"
   ]
  },
  {
   "cell_type": "code",
   "execution_count": 8,
   "metadata": {},
   "outputs": [],
   "source": [
    "#set flag of label coinciding hotspots with same date to 1\n",
    "combined_gdf_clean.loc[combined_gdf_clean['date'].dt.strftime('%Y-%m-%d') == combined_gdf_clean['datestamp'], 'truth_flag'] = 1\n",
    "#Set to -1 for missed detections\n",
    "combined_gdf_clean.loc[combined_gdf_clean['id_hs'].isna(), 'truth_flag'] = -1"
   ]
  },
  {
   "cell_type": "code",
   "execution_count": 9,
   "metadata": {},
   "outputs": [],
   "source": [
    "#Set to 0 for false alarm\n",
    "combined_gdf_clean.loc[combined_gdf_clean['id_truth'].isna(), 'truth_flag'] = 0"
   ]
  },
  {
   "cell_type": "code",
   "execution_count": 10,
   "metadata": {},
   "outputs": [],
   "source": [
    "#get hits and false alarm, avoid double counting of hits (only count as one hit even if hs coincides with multiple ground truth)\n",
    "combined_gdf_clean_hits_falsealarms = combined_gdf_clean.drop_duplicates(subset=['id_hs'], keep='first')"
   ]
  },
  {
   "cell_type": "code",
   "execution_count": 12,
   "metadata": {},
   "outputs": [
    {
     "data": {
      "text/plain": [
       "<matplotlib.axes._subplots.AxesSubplot at 0x27657e0cfc8>"
      ]
     },
     "execution_count": 12,
     "metadata": {},
     "output_type": "execute_result"
    },
    {
     "data": {
      "image/png": "[encoded data removed]",
      "text/plain": [
       "<Figure size 432x288 with 1 Axes>"
      ]
     },
     "metadata": {
      "needs_background": "light"
     },
     "output_type": "display_data"
    }
   ],
   "source": [
    "combined_gdf_clean_hits_falsealarms['truth_flag'].hist()"
   ]
  },
  {
   "cell_type": "code",
   "execution_count": 13,
   "metadata": {},
   "outputs": [],
   "source": [
    "#If a ground truth data has been identified as a hit, it shouldn't be considered as a missed detection anymore. \n",
    "#special handling due to union operation, get the list of ground truth data which has been identified as a hit\n",
    "hits_id_truth_list = combined_gdf_clean_hits_falsealarms.loc[combined_gdf_clean_hits_falsealarms['truth_flag'] == 1, 'id_truth'].unique()"
   ]
  },
  {
   "cell_type": "code",
   "execution_count": 14,
   "metadata": {},
   "outputs": [],
   "source": [
    "#get missed detections\n",
    "combined_gdf_clean_missed_detections = combined_gdf_clean[combined_gdf_clean['id_hs'].isna()].copy()\n",
    "#remove redundant ground truth data misidentified as missed detections\n",
    "combined_gdf_clean_missed_detections = combined_gdf_clean_missed_detections[~combined_gdf_clean_missed_detections['id_truth'].isin(hits_id_truth_list)].copy()"
   ]
  },
  {
   "cell_type": "code",
   "execution_count": 15,
   "metadata": {},
   "outputs": [],
   "source": [
    "combined_gdf_clean_dup_removed = pd.concat([combined_gdf_clean_hits_falsealarms, combined_gdf_clean_missed_detections]).drop_duplicates()"
   ]
  },
  {
   "cell_type": "code",
   "execution_count": 16,
   "metadata": {},
   "outputs": [
    {
     "name": "stdout",
     "output_type": "stream",
     "text": [
      "Data is clean. No double counting of missed detections.\n"
     ]
    }
   ],
   "source": [
    "#check if double count missed detection or not\n",
    "try:\n",
    "    assert combined_gdf_clean_dup_removed[combined_gdf_clean_dup_removed['id_hs'].isna()].duplicated(subset=['id_truth'], keep=False).sum() == 0.0\n",
    "    print ('Data is clean. No double counting of missed detections.')\n",
    "except:\n",
    "    print ('There are duplicated records!')"
   ]
  },
  {
   "cell_type": "code",
   "execution_count": 17,
   "metadata": {},
   "outputs": [
    {
     "name": "stdout",
     "output_type": "stream",
     "text": [
      "Data is clean. No misclassified missed detections.\n"
     ]
    }
   ],
   "source": [
    "#check if there are no misclassified missed detections\n",
    "try:\n",
    "    assert combined_gdf_clean_dup_removed.loc[combined_gdf_clean_dup_removed['id_truth'].isin(hits_id_truth_list), 'id_hs'].isna().sum() == 0.0\n",
    "    print ('Data is clean. No misclassified missed detections.')\n",
    "except:\n",
    "    print ('There are duplicated records!')"
   ]
  },
  {
   "cell_type": "code",
   "execution_count": 18,
   "metadata": {},
   "outputs": [
    {
     "data": {
      "text/plain": [
       "<matplotlib.axes._subplots.AxesSubplot at 0x27657e26308>"
      ]
     },
     "execution_count": 18,
     "metadata": {},
     "output_type": "execute_result"
    },
    {
     "data": {
      "image/png": "[encoded data removed]",
      "text/plain": [
       "<Figure size 432x288 with 1 Axes>"
      ]
     },
     "metadata": {
      "needs_background": "light"
     },
     "output_type": "display_data"
    }
   ],
   "source": [
    "combined_gdf_clean_dup_removed['truth_flag'].hist()"
   ]
  },
  {
   "cell_type": "code",
   "execution_count": 201,
   "metadata": {},
   "outputs": [
    {
     "data": {
      "text/plain": [
       "<matplotlib.axes._subplots.AxesSubplot at 0x201139ce860>"
      ]
     },
     "execution_count": 201,
     "metadata": {},
     "output_type": "execute_result"
    },
    {
     "data": {
      "image/png": "[encoded data removed]",
      "text/plain": [
       "<Figure size 432x288 with 1 Axes>"
      ]
     },
     "metadata": {
      "needs_background": "light"
     },
     "output_type": "display_data"
    }
   ],
   "source": [
    "combined_gdf_clean_dup_removed['truth_flag'].hist()"
   ]
  },
  {
   "cell_type": "code",
   "execution_count": 203,
   "metadata": {},
   "outputs": [],
   "source": [
    "combined_gdf_clean_dup_removed.to_file('../../data/interim/h8_ml_apr_sep_2019_clean.geojson', driver='GeoJSON')"
   ]
  }
 ],
 "metadata": {
  "kernelspec": {
   "display_name": "Python 3",
   "language": "python",
   "name": "python3"
  },
  "language_info": {
   "codemirror_mode": {
    "name": "ipython",
    "version": 3
   },
   "file_extension": ".py",
   "mimetype": "text/x-python",
   "name": "python",
   "nbconvert_exporter": "python",
   "pygments_lexer": "ipython3",
   "version": "3.7.3"
  }
 },
 "nbformat": 4,
 "nbformat_minor": 2
}
