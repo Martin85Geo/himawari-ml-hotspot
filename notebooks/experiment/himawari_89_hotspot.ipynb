{
 "cells": [
  {
   "cell_type": "code",
   "execution_count": 1,
   "metadata": {},
   "outputs": [],
   "source": [
    "import logging\n",
    "import numpy as np\n",
    "import pandas as pd\n",
    "import geopandas\n",
    "import glob\n",
    "import os\n",
    "from pyorbital import astronomy\n",
    "from datetime import datetime, timedelta\n",
    "from shapely import geometry"
   ]
  },
  {
   "cell_type": "code",
   "execution_count": 2,
   "metadata": {},
   "outputs": [],
   "source": [
    "def compute_sun_glint_angle(sat_angle):\n",
    "    \"\"\"Compute the sun glint angle. Sun glint angle is defined as the angle difference between reflected solar beam and\n",
    "    the satellite view/zenith angle, from the satellite reference frame. If the angle is small, it means that the\n",
    "    reflected solar beam is seen by the satellite as sun glint.\n",
    "\n",
    "    The eqn of sun glint is\n",
    "        cos (theta_g) = cos (theta_v) * cos (theta_s) - sin (theta_v) * sin (theta_s) * cos (phi), where\n",
    "        theta_g = sun glint angle, theta_v = satellite view/zenith angle, theta_s = solar zenith angle,\n",
    "        phi = relative azimuth angle (difference between solar and satellite azimuth angle)\n",
    "\n",
    "    For more info, refer to \"An Enhanced Contextual Fire Detection Algorithm for MODIS\" by Louis Giglio et al 2003\n",
    "    https://doi.org/10.1016/S0034-4257(03)00184-6\n",
    "\n",
    "    Args:\n",
    "        sat_angle (dict): Dict of satellite angles: {\n",
    "                        'viewzenang' (float): satellite view/zenith angle,\n",
    "                        'solarzenang' (float): solar zenith angle,\n",
    "                        'relazang' (float): relative azimuth angle ,\n",
    "                         }\n",
    "\n",
    "    Returns:\n",
    "        sun_glint_angle (float): Angle of sun glint in degrees\n",
    "\n",
    "    \"\"\"\n",
    "    theta_v = np.radians(sat_angle['viewzenang'])\n",
    "    theta_s = np.radians(sat_angle['solarzenang'])\n",
    "    phi = np.radians(sat_angle['relazang'])\n",
    "    cos_sunglint = np.cos(theta_v) * np.cos(theta_s) - (np.sin(theta_v) * np.sin(theta_s) * np.cos(phi))\n",
    "    sun_glint_rad = np.arccos(cos_sunglint)\n",
    "    sun_glint_angle = np.degrees(sun_glint_rad)\n",
    "\n",
    "    return sun_glint_angle"
   ]
  },
  {
   "cell_type": "code",
   "execution_count": 3,
   "metadata": {},
   "outputs": [],
   "source": [
    "def parse_jaxa_hotspot_txt(file_path):\n",
    "    \"\"\"\n",
    "    Parse the JAXA Himawari-8/9 AHI hotspot text and insert into the Pandas DataFrame\n",
    "    with coordinates, fire radiative power, detection confidence, timestamp and satellite of hotspots.\n",
    "\n",
    "    Args:\n",
    "          file_path (str): File path to the JAXA Himawari-8/9 hotspot .csv\n",
    "    \"\"\"\n",
    "    hs_ahi_df = pd.DataFrame()\n",
    "    cols_to_use_list = [0, 2, *(i for i in range(7,27))]\n",
    "    date_col_list = [0]\n",
    "    names_list = ['date', 'satellite', 'lon', 'lat', 'viewzenang', 'viewazang', 'pixwid', 'pixlen', 't07',   \n",
    "                  't14', 't07_t14', 'meant07', 'meant14', 'meandt', 'sdt07', 'sdt14', 'sddt', \n",
    "                  'ref3', 'ref4', 'fire_idx', 'fire', 'test1_6']\n",
    "    \n",
    "    print (len(names_list), len(cols_to_use_list))\n",
    "    \n",
    "\n",
    "    for file in glob.glob(file_path):\n",
    "        try:\n",
    "            f = open(file, \"r\")\n",
    "            filename = os.path.basename(file)\n",
    "            print(filename)\n",
    "        except Exception as e:\n",
    "            pass\n",
    "        \n",
    "        temp_hs_ahi_df = pd.read_csv(file, sep=\",\", skiprows=[0], \\\n",
    "                                     header=None, usecols=cols_to_use_list, \\\n",
    "                                     names=names_list, \\\n",
    "                                     parse_dates=date_col_list)\n",
    "\n",
    "        temp_hs_ahi_df['confidence'] = 'NA'\n",
    "        temp_hs_ahi_df['FRP'] = 'NA'\n",
    "        temp_hs_ahi_df['satellite'] = 'Himawari-8/9'\n",
    "\n",
    "        if len(temp_hs_ahi_df) > 0:\n",
    "            try:\n",
    "                temp_hs_ahi_df['solarazang'] = temp_hs_ahi_df.apply( \\\n",
    "                    lambda x: np.degrees(astronomy.get_alt_az(x['date'], x['lon'], x['lat'])[1]), axis=1)\n",
    "                temp_hs_ahi_df['solarzenang'] = temp_hs_ahi_df.apply( \\\n",
    "                    lambda x: astronomy.sun_zenith_angle(x['date'], x['lon'], x['lat']), axis=1)\n",
    "                temp_hs_ahi_df['relazang'] = temp_hs_ahi_df['solarazang'] - temp_hs_ahi_df['viewazang']\n",
    "                temp_hs_ahi_df['sunglint_angle'] = temp_hs_ahi_df.apply(compute_sun_glint_angle, axis=1)\n",
    "            except Exception as e:\n",
    "                pass\n",
    "\n",
    "            try:\n",
    "                temp_hs_ahi_df.loc[(temp_hs_ahi_df['date'].dt.hour >= 0) \\\n",
    "                                   & (temp_hs_ahi_df['date'].dt.hour <= 11), 'daynight'] = 'day'\n",
    "                temp_hs_ahi_df.loc[temp_hs_ahi_df['date'].dt.hour > 11, \\\n",
    "                                   'daynight'] = 'night'\n",
    "                temp_hs_ahi_df['date'] = temp_hs_ahi_df['date'].dt.strftime( \\\n",
    "                    \"%d/%m/%Y %H:%M:%S\")\n",
    "            except Exception as e:\n",
    "                date_from_file = datetime.strptime(filename[4:17], \"%Y%m%d_%H%M\")\n",
    "                temp_hs_ahi_df['date'] = date_from_file.strftime(\"%d/%m/%Y %H:%M:%S\")\n",
    "\n",
    "        hs_ahi_df = pd.concat([hs_ahi_df, temp_hs_ahi_df])\n",
    "\n",
    "    if len(hs_ahi_df) > 0:\n",
    "        hs_ahi_df = hs_ahi_df.reset_index(drop=True)\n",
    "\n",
    "    return hs_ahi_df"
   ]
  },
  {
   "cell_type": "code",
   "execution_count": 4,
   "metadata": {},
   "outputs": [
    {
     "name": "stdout",
     "output_type": "stream",
     "text": [
      "22 22\n",
      "H08_20190911_0200_L2WLFbet_FLDK.06001_06001.csv\n",
      "H08_20190911_0210_L2WLFbet_FLDK.06001_06001.csv\n",
      "H08_20190911_0220_L2WLFbet_FLDK.06001_06001.csv\n",
      "H08_20190911_0230_L2WLFbet_FLDK.06001_06001.csv\n",
      "H08_20190911_0250_L2WLFbet_FLDK.06001_06001.csv\n",
      "H08_20190911_0300_L2WLFbet_FLDK.06001_06001.csv\n",
      "H08_20190911_0310_L2WLFbet_FLDK.06001_06001.csv\n",
      "H08_20190911_0320_L2WLFbet_FLDK.06001_06001.csv\n",
      "H08_20190911_0330_L2WLFbet_FLDK.06001_06001.csv\n",
      "H08_20190911_0340_L2WLFbet_FLDK.06001_06001.csv\n",
      "H08_20190911_0350_L2WLFbet_FLDK.06001_06001.csv\n",
      "H08_20190911_0400_L2WLFbet_FLDK.06001_06001.csv\n",
      "H08_20190911_0410_L2WLFbet_FLDK.06001_06001.csv\n",
      "H08_20190911_0420_L2WLFbet_FLDK.06001_06001.csv\n",
      "H08_20190911_0430_L2WLFbet_FLDK.06001_06001.csv\n",
      "H08_20190911_0440_L2WLFbet_FLDK.06001_06001.csv\n",
      "H08_20190911_0450_L2WLFbet_FLDK.06001_06001.csv\n",
      "H08_20190911_0500_L2WLFbet_FLDK.06001_06001.csv\n",
      "H08_20190911_0510_L2WLFbet_FLDK.06001_06001.csv\n",
      "H08_20190911_0520_L2WLFbet_FLDK.06001_06001.csv\n",
      "H08_20190911_0530_L2WLFbet_FLDK.06001_06001.csv\n",
      "H08_20190911_0540_L2WLFbet_FLDK.06001_06001.csv\n",
      "H08_20190911_0550_L2WLFbet_FLDK.06001_06001.csv\n",
      "H08_20190911_0600_L2WLFbet_FLDK.06001_06001.csv\n",
      "H08_20190911_0610_L2WLFbet_FLDK.06001_06001.csv\n",
      "H08_20190911_0620_L2WLFbet_FLDK.06001_06001.csv\n",
      "H08_20190911_0630_L2WLFbet_FLDK.06001_06001.csv\n",
      "H08_20190911_0640_L2WLFbet_FLDK.06001_06001.csv\n",
      "H08_20190911_0650_L2WLFbet_FLDK.06001_06001.csv\n",
      "H08_20190911_0700_L2WLFbet_FLDK.06001_06001.csv\n",
      "H08_20190911_0710_L2WLFbet_FLDK.06001_06001.csv\n",
      "H08_20190911_0720_L2WLFbet_FLDK.06001_06001.csv\n",
      "H08_20190911_0730_L2WLFbet_FLDK.06001_06001.csv\n",
      "H08_20190911_0740_L2WLFbet_FLDK.06001_06001.csv\n",
      "H08_20190911_0750_L2WLFbet_FLDK.06001_06001.csv\n"
     ]
    }
   ],
   "source": [
    "hs_df = parse_jaxa_hotspot_txt(file_path=\"../data/raw/hotspots/ahi/*20190911_0[2-7]*.csv\")"
   ]
  },
  {
   "cell_type": "code",
   "execution_count": 5,
   "metadata": {},
   "outputs": [],
   "source": [
    "end_dt = datetime(year=2019, month=9, day=11, hour=7, minute=30)\n",
    "start_dt = datetime(year=2019, month=9, day=11, hour=2, minute=30)"
   ]
  },
  {
   "cell_type": "code",
   "execution_count": 6,
   "metadata": {},
   "outputs": [],
   "source": [
    "filter_bool = (hs_df['date'] <= end_dt.strftime(format='%d/%m/%Y %H:%M:00')) & (hs_df['date'] >= start_dt.strftime(format='%d/%m/%Y %H:%M:00'))"
   ]
  },
  {
   "cell_type": "code",
   "execution_count": 7,
   "metadata": {},
   "outputs": [],
   "source": [
    "hs_df_short = hs_df[filter_bool]"
   ]
  },
  {
   "cell_type": "code",
   "execution_count": 8,
   "metadata": {},
   "outputs": [],
   "source": [
    "hs_df_short.reset_index(inplace=True, drop=True)"
   ]
  },
  {
   "cell_type": "code",
   "execution_count": 9,
   "metadata": {},
   "outputs": [],
   "source": [
    "hs_gdf = geopandas.GeoDataFrame(hs_df_short, geometry=geopandas.points_from_xy(hs_df_short.lon, hs_df_short.lat))"
   ]
  },
  {
   "cell_type": "code",
   "execution_count": 10,
   "metadata": {},
   "outputs": [
    {
     "ename": "RuntimeError",
     "evalue": "b'no arguments in initialization list'",
     "output_type": "error",
     "traceback": [
      "\u001b[1;31m---------------------------------------------------------------------------\u001b[0m",
      "\u001b[1;31mRuntimeError\u001b[0m                              Traceback (most recent call last)",
      "\u001b[1;32m<ipython-input-10-d76e41696857>\u001b[0m in \u001b[0;36m<module>\u001b[1;34m\u001b[0m\n\u001b[0;32m      1\u001b[0m \u001b[0mhs_gdf\u001b[0m\u001b[1;33m.\u001b[0m\u001b[0mcrs\u001b[0m \u001b[1;33m=\u001b[0m \u001b[1;33m{\u001b[0m\u001b[1;34m'init'\u001b[0m\u001b[1;33m:\u001b[0m \u001b[1;34m'epsg:4326'\u001b[0m\u001b[1;33m}\u001b[0m\u001b[1;33m\u001b[0m\u001b[1;33m\u001b[0m\u001b[0m\n\u001b[1;32m----> 2\u001b[1;33m \u001b[0mhs_gdf\u001b[0m \u001b[1;33m=\u001b[0m \u001b[0mhs_gdf\u001b[0m\u001b[1;33m.\u001b[0m\u001b[0mto_crs\u001b[0m\u001b[1;33m(\u001b[0m\u001b[1;33m{\u001b[0m\u001b[1;34m'init'\u001b[0m\u001b[1;33m:\u001b[0m \u001b[1;34m'epsg:3857'\u001b[0m\u001b[1;33m}\u001b[0m\u001b[1;33m)\u001b[0m\u001b[1;33m\u001b[0m\u001b[1;33m\u001b[0m\u001b[0m\n\u001b[0m\u001b[0;32m      3\u001b[0m \u001b[0mhs_gdf\u001b[0m\u001b[1;33m.\u001b[0m\u001b[0mgeometry\u001b[0m \u001b[1;33m=\u001b[0m \u001b[0mhs_gdf\u001b[0m\u001b[1;33m.\u001b[0m\u001b[0mbuffer\u001b[0m\u001b[1;33m(\u001b[0m\u001b[1;36m1\u001b[0m\u001b[1;33m)\u001b[0m\u001b[1;33m\u001b[0m\u001b[1;33m\u001b[0m\u001b[0m\n\u001b[0;32m      4\u001b[0m \u001b[0mhs_gdf\u001b[0m\u001b[1;33m.\u001b[0m\u001b[0mhead\u001b[0m\u001b[1;33m(\u001b[0m\u001b[1;33m)\u001b[0m\u001b[1;33m\u001b[0m\u001b[1;33m\u001b[0m\u001b[0m\n",
      "\u001b[1;32mC:\\Anaconda3\\lib\\site-packages\\geopandas\\geodataframe.py\u001b[0m in \u001b[0;36mto_crs\u001b[1;34m(self, crs, epsg, inplace)\u001b[0m\n\u001b[0;32m    532\u001b[0m         \u001b[1;32melse\u001b[0m\u001b[1;33m:\u001b[0m\u001b[1;33m\u001b[0m\u001b[1;33m\u001b[0m\u001b[0m\n\u001b[0;32m    533\u001b[0m             \u001b[0mdf\u001b[0m \u001b[1;33m=\u001b[0m \u001b[0mself\u001b[0m\u001b[1;33m.\u001b[0m\u001b[0mcopy\u001b[0m\u001b[1;33m(\u001b[0m\u001b[1;33m)\u001b[0m\u001b[1;33m\u001b[0m\u001b[1;33m\u001b[0m\u001b[0m\n\u001b[1;32m--> 534\u001b[1;33m         \u001b[0mgeom\u001b[0m \u001b[1;33m=\u001b[0m \u001b[0mdf\u001b[0m\u001b[1;33m.\u001b[0m\u001b[0mgeometry\u001b[0m\u001b[1;33m.\u001b[0m\u001b[0mto_crs\u001b[0m\u001b[1;33m(\u001b[0m\u001b[0mcrs\u001b[0m\u001b[1;33m=\u001b[0m\u001b[0mcrs\u001b[0m\u001b[1;33m,\u001b[0m \u001b[0mepsg\u001b[0m\u001b[1;33m=\u001b[0m\u001b[0mepsg\u001b[0m\u001b[1;33m)\u001b[0m\u001b[1;33m\u001b[0m\u001b[1;33m\u001b[0m\u001b[0m\n\u001b[0m\u001b[0;32m    535\u001b[0m         \u001b[0mdf\u001b[0m\u001b[1;33m.\u001b[0m\u001b[0mgeometry\u001b[0m \u001b[1;33m=\u001b[0m \u001b[0mgeom\u001b[0m\u001b[1;33m\u001b[0m\u001b[1;33m\u001b[0m\u001b[0m\n\u001b[0;32m    536\u001b[0m         \u001b[0mdf\u001b[0m\u001b[1;33m.\u001b[0m\u001b[0mcrs\u001b[0m \u001b[1;33m=\u001b[0m \u001b[0mgeom\u001b[0m\u001b[1;33m.\u001b[0m\u001b[0mcrs\u001b[0m\u001b[1;33m\u001b[0m\u001b[1;33m\u001b[0m\u001b[0m\n",
      "\u001b[1;32mC:\\Anaconda3\\lib\\site-packages\\geopandas\\geoseries.py\u001b[0m in \u001b[0;36mto_crs\u001b[1;34m(self, crs, epsg)\u001b[0m\n\u001b[0;32m    421\u001b[0m             \u001b[0mproject\u001b[0m \u001b[1;33m=\u001b[0m \u001b[0mtransformer\u001b[0m\u001b[1;33m.\u001b[0m\u001b[0mtransform\u001b[0m\u001b[1;33m\u001b[0m\u001b[1;33m\u001b[0m\u001b[0m\n\u001b[0;32m    422\u001b[0m         \u001b[1;32melse\u001b[0m\u001b[1;33m:\u001b[0m\u001b[1;33m\u001b[0m\u001b[1;33m\u001b[0m\u001b[0m\n\u001b[1;32m--> 423\u001b[1;33m             \u001b[0mproj_in\u001b[0m \u001b[1;33m=\u001b[0m \u001b[0mpyproj\u001b[0m\u001b[1;33m.\u001b[0m\u001b[0mProj\u001b[0m\u001b[1;33m(\u001b[0m\u001b[0mself\u001b[0m\u001b[1;33m.\u001b[0m\u001b[0mcrs\u001b[0m\u001b[1;33m,\u001b[0m \u001b[0mpreserve_units\u001b[0m\u001b[1;33m=\u001b[0m\u001b[1;32mTrue\u001b[0m\u001b[1;33m)\u001b[0m\u001b[1;33m\u001b[0m\u001b[1;33m\u001b[0m\u001b[0m\n\u001b[0m\u001b[0;32m    424\u001b[0m             \u001b[0mproj_out\u001b[0m \u001b[1;33m=\u001b[0m \u001b[0mpyproj\u001b[0m\u001b[1;33m.\u001b[0m\u001b[0mProj\u001b[0m\u001b[1;33m(\u001b[0m\u001b[0mcrs\u001b[0m\u001b[1;33m,\u001b[0m \u001b[0mpreserve_units\u001b[0m\u001b[1;33m=\u001b[0m\u001b[1;32mTrue\u001b[0m\u001b[1;33m)\u001b[0m\u001b[1;33m\u001b[0m\u001b[1;33m\u001b[0m\u001b[0m\n\u001b[0;32m    425\u001b[0m             \u001b[0mproject\u001b[0m \u001b[1;33m=\u001b[0m \u001b[0mpartial\u001b[0m\u001b[1;33m(\u001b[0m\u001b[0mpyproj\u001b[0m\u001b[1;33m.\u001b[0m\u001b[0mtransform\u001b[0m\u001b[1;33m,\u001b[0m \u001b[0mproj_in\u001b[0m\u001b[1;33m,\u001b[0m \u001b[0mproj_out\u001b[0m\u001b[1;33m)\u001b[0m\u001b[1;33m\u001b[0m\u001b[1;33m\u001b[0m\u001b[0m\n",
      "\u001b[1;32mC:\\Anaconda3\\lib\\site-packages\\pyproj\\__init__.py\u001b[0m in \u001b[0;36m__new__\u001b[1;34m(self, projparams, preserve_units, **kwargs)\u001b[0m\n\u001b[0;32m    360\u001b[0m         \u001b[1;31m# on case-insensitive filesystems).\u001b[0m\u001b[1;33m\u001b[0m\u001b[1;33m\u001b[0m\u001b[1;33m\u001b[0m\u001b[0m\n\u001b[0;32m    361\u001b[0m         \u001b[0mprojstring\u001b[0m \u001b[1;33m=\u001b[0m \u001b[0mprojstring\u001b[0m\u001b[1;33m.\u001b[0m\u001b[0mreplace\u001b[0m\u001b[1;33m(\u001b[0m\u001b[1;34m'EPSG'\u001b[0m\u001b[1;33m,\u001b[0m\u001b[1;34m'epsg'\u001b[0m\u001b[1;33m)\u001b[0m\u001b[1;33m\u001b[0m\u001b[1;33m\u001b[0m\u001b[0m\n\u001b[1;32m--> 362\u001b[1;33m         \u001b[1;32mreturn\u001b[0m \u001b[0m_proj\u001b[0m\u001b[1;33m.\u001b[0m\u001b[0mProj\u001b[0m\u001b[1;33m.\u001b[0m\u001b[0m__new__\u001b[0m\u001b[1;33m(\u001b[0m\u001b[0mself\u001b[0m\u001b[1;33m,\u001b[0m \u001b[0mprojstring\u001b[0m\u001b[1;33m)\u001b[0m\u001b[1;33m\u001b[0m\u001b[1;33m\u001b[0m\u001b[0m\n\u001b[0m\u001b[0;32m    363\u001b[0m \u001b[1;33m\u001b[0m\u001b[0m\n\u001b[0;32m    364\u001b[0m     \u001b[1;32mdef\u001b[0m \u001b[0m__call__\u001b[0m\u001b[1;33m(\u001b[0m\u001b[0mself\u001b[0m\u001b[1;33m,\u001b[0m \u001b[1;33m*\u001b[0m\u001b[0margs\u001b[0m\u001b[1;33m,\u001b[0m \u001b[1;33m**\u001b[0m\u001b[0mkw\u001b[0m\u001b[1;33m)\u001b[0m\u001b[1;33m:\u001b[0m\u001b[1;33m\u001b[0m\u001b[1;33m\u001b[0m\u001b[0m\n",
      "\u001b[1;32m_proj.pyx\u001b[0m in \u001b[0;36m_proj.Proj.__cinit__\u001b[1;34m()\u001b[0m\n",
      "\u001b[1;31mRuntimeError\u001b[0m: b'no arguments in initialization list'"
     ]
    }
   ],
   "source": [
    "hs_gdf.crs = {'init': 'epsg:4326'}\n",
    "hs_gdf = hs_gdf.to_crs({'init': 'epsg:3857'})\n",
    "hs_gdf.geometry = hs_gdf.buffer(1)\n",
    "hs_gdf.head()"
   ]
  },
  {
   "cell_type": "code",
   "execution_count": 11,
   "metadata": {},
   "outputs": [],
   "source": [
    "truth_df = pd.read_csv('../references/qgis_verification/Sep2019/Sep2019_groundtruth.csv')"
   ]
  },
  {
   "cell_type": "code",
   "execution_count": 12,
   "metadata": {},
   "outputs": [],
   "source": [
    "truth_df.drop(columns=[\"Unnamed: 0\"], inplace=True)\n",
    "truth_gdf = geopandas.GeoDataFrame(truth_df, geometry=geopandas.points_from_xy(truth_df.lon, truth_df.lat))"
   ]
  },
  {
   "cell_type": "code",
   "execution_count": 13,
   "metadata": {},
   "outputs": [],
   "source": [
    "truth_gdf.crs = {'init' :'epsg:4326'}\n",
    "truth_gdf = truth_gdf.to_crs({'init': 'epsg:3857'})"
   ]
  },
  {
   "cell_type": "code",
   "execution_count": 14,
   "metadata": {},
   "outputs": [],
   "source": [
    "truth_gdf_b500 = truth_gdf.buffer(500)"
   ]
  },
  {
   "cell_type": "code",
   "execution_count": 15,
   "metadata": {},
   "outputs": [],
   "source": [
    "truth_gdf.geometry = truth_gdf_b500"
   ]
  },
  {
   "cell_type": "code",
   "execution_count": 16,
   "metadata": {},
   "outputs": [
    {
     "data": {
      "text/html": [
       "<div>\n",
       "<style scoped>\n",
       "    .dataframe tbody tr th:only-of-type {\n",
       "        vertical-align: middle;\n",
       "    }\n",
       "\n",
       "    .dataframe tbody tr th {\n",
       "        vertical-align: top;\n",
       "    }\n",
       "\n",
       "    .dataframe thead th {\n",
       "        text-align: right;\n",
       "    }\n",
       "</style>\n",
       "<table border=\"1\" class=\"dataframe\">\n",
       "  <thead>\n",
       "    <tr style=\"text-align: right;\">\n",
       "      <th></th>\n",
       "      <th>datestamp</th>\n",
       "      <th>geometry</th>\n",
       "      <th>lat</th>\n",
       "      <th>lon</th>\n",
       "      <th>end_date</th>\n",
       "      <th>start_date</th>\n",
       "      <th>period</th>\n",
       "    </tr>\n",
       "  </thead>\n",
       "  <tbody>\n",
       "    <tr>\n",
       "      <th>0</th>\n",
       "      <td>2019/09/01</td>\n",
       "      <td>POLYGON ((11371879.424 47734.603, 11371877.016...</td>\n",
       "      <td>0.428803</td>\n",
       "      <td>102.150839</td>\n",
       "      <td>2019-09-01</td>\n",
       "      <td>2019-09-01</td>\n",
       "      <td>0 days 00:00:00.000000000</td>\n",
       "    </tr>\n",
       "    <tr>\n",
       "      <th>1</th>\n",
       "      <td>2019/09/01</td>\n",
       "      <td>POLYGON ((11372013.189 47386.805, 11372010.781...</td>\n",
       "      <td>0.425679</td>\n",
       "      <td>102.152041</td>\n",
       "      <td>2019-09-01</td>\n",
       "      <td>2019-09-01</td>\n",
       "      <td>0 days 00:00:00.000000000</td>\n",
       "    </tr>\n",
       "    <tr>\n",
       "      <th>2</th>\n",
       "      <td>2019/09/01</td>\n",
       "      <td>POLYGON ((11400398.079 -14065.191, 11400395.67...</td>\n",
       "      <td>-0.126350</td>\n",
       "      <td>102.407027</td>\n",
       "      <td>2019-09-01</td>\n",
       "      <td>2019-09-01</td>\n",
       "      <td>0 days 00:00:00.000000000</td>\n",
       "    </tr>\n",
       "    <tr>\n",
       "      <th>3</th>\n",
       "      <td>2019/09/01</td>\n",
       "      <td>POLYGON ((11399568.738 -13984.932, 11399566.33...</td>\n",
       "      <td>-0.125629</td>\n",
       "      <td>102.399577</td>\n",
       "      <td>2019-09-01</td>\n",
       "      <td>2019-09-01</td>\n",
       "      <td>0 days 00:00:00.000000000</td>\n",
       "    </tr>\n",
       "    <tr>\n",
       "      <th>4</th>\n",
       "      <td>2019/09/01</td>\n",
       "      <td>POLYGON ((11400933.139 -14038.438, 11400930.73...</td>\n",
       "      <td>-0.126109</td>\n",
       "      <td>102.411833</td>\n",
       "      <td>2019-09-01</td>\n",
       "      <td>2019-09-01</td>\n",
       "      <td>0 days 00:00:00.000000000</td>\n",
       "    </tr>\n",
       "  </tbody>\n",
       "</table>\n",
       "</div>"
      ],
      "text/plain": [
       "    datestamp                                           geometry       lat  \\\n",
       "0  2019/09/01  POLYGON ((11371879.424 47734.603, 11371877.016...  0.428803   \n",
       "1  2019/09/01  POLYGON ((11372013.189 47386.805, 11372010.781...  0.425679   \n",
       "2  2019/09/01  POLYGON ((11400398.079 -14065.191, 11400395.67... -0.126350   \n",
       "3  2019/09/01  POLYGON ((11399568.738 -13984.932, 11399566.33... -0.125629   \n",
       "4  2019/09/01  POLYGON ((11400933.139 -14038.438, 11400930.73... -0.126109   \n",
       "\n",
       "          lon    end_date  start_date                     period  \n",
       "0  102.150839  2019-09-01  2019-09-01  0 days 00:00:00.000000000  \n",
       "1  102.152041  2019-09-01  2019-09-01  0 days 00:00:00.000000000  \n",
       "2  102.407027  2019-09-01  2019-09-01  0 days 00:00:00.000000000  \n",
       "3  102.399577  2019-09-01  2019-09-01  0 days 00:00:00.000000000  \n",
       "4  102.411833  2019-09-01  2019-09-01  0 days 00:00:00.000000000  "
      ]
     },
     "execution_count": 16,
     "metadata": {},
     "output_type": "execute_result"
    }
   ],
   "source": [
    "truth_gdf.head()"
   ]
  },
  {
   "cell_type": "code",
   "execution_count": 17,
   "metadata": {},
   "outputs": [],
   "source": [
    "clip_area = geopandas.read_file('../references/qgis_verification/shapefile/Sep_2019.shp')\n",
    "clip_area.crs\n",
    "clip_area = clip_area.to_crs({'init': 'epsg:3857'})"
   ]
  },
  {
   "cell_type": "code",
   "execution_count": 18,
   "metadata": {},
   "outputs": [],
   "source": [
    "hs_df_clipped = geopandas.overlay(clip_area, hs_gdf, how='intersection')"
   ]
  },
  {
   "cell_type": "code",
   "execution_count": 19,
   "metadata": {},
   "outputs": [
    {
     "data": {
      "text/html": [
       "<div>\n",
       "<style scoped>\n",
       "    .dataframe tbody tr th:only-of-type {\n",
       "        vertical-align: middle;\n",
       "    }\n",
       "\n",
       "    .dataframe tbody tr th {\n",
       "        vertical-align: top;\n",
       "    }\n",
       "\n",
       "    .dataframe thead th {\n",
       "        text-align: right;\n",
       "    }\n",
       "</style>\n",
       "<table border=\"1\" class=\"dataframe\">\n",
       "  <thead>\n",
       "    <tr style=\"text-align: right;\">\n",
       "      <th></th>\n",
       "      <th>id</th>\n",
       "      <th>date</th>\n",
       "      <th>satellite</th>\n",
       "      <th>lon</th>\n",
       "      <th>lat</th>\n",
       "      <th>viewzenang</th>\n",
       "      <th>viewazang</th>\n",
       "      <th>pixwid</th>\n",
       "      <th>pixlen</th>\n",
       "      <th>t07</th>\n",
       "      <th>...</th>\n",
       "      <th>fire</th>\n",
       "      <th>test1_6</th>\n",
       "      <th>confidence</th>\n",
       "      <th>FRP</th>\n",
       "      <th>solarazang</th>\n",
       "      <th>solarzenang</th>\n",
       "      <th>relazang</th>\n",
       "      <th>sunglint_angle</th>\n",
       "      <th>daynight</th>\n",
       "      <th>geometry</th>\n",
       "    </tr>\n",
       "  </thead>\n",
       "  <tbody>\n",
       "    <tr>\n",
       "      <th>0</th>\n",
       "      <td>1</td>\n",
       "      <td>11/09/2019 04:00:00</td>\n",
       "      <td>Himawari-8/9</td>\n",
       "      <td>103.96</td>\n",
       "      <td>-1.3</td>\n",
       "      <td>42.61</td>\n",
       "      <td>88.29</td>\n",
       "      <td>69.353</td>\n",
       "      <td>94.233</td>\n",
       "      <td>317.01</td>\n",
       "      <td>...</td>\n",
       "      <td>1</td>\n",
       "      <td>'001000'</td>\n",
       "      <td>NA</td>\n",
       "      <td>NA</td>\n",
       "      <td>68.479144</td>\n",
       "      <td>16.374637</td>\n",
       "      <td>-19.810856</td>\n",
       "      <td>58.226437</td>\n",
       "      <td>day</td>\n",
       "      <td>POLYGON ((11572775.263 -144727.756, 11572775.2...</td>\n",
       "    </tr>\n",
       "    <tr>\n",
       "      <th>1</th>\n",
       "      <td>1</td>\n",
       "      <td>11/09/2019 04:10:00</td>\n",
       "      <td>Himawari-8/9</td>\n",
       "      <td>104.06</td>\n",
       "      <td>-1.3</td>\n",
       "      <td>42.50</td>\n",
       "      <td>88.28</td>\n",
       "      <td>69.231</td>\n",
       "      <td>93.901</td>\n",
       "      <td>329.70</td>\n",
       "      <td>...</td>\n",
       "      <td>1</td>\n",
       "      <td>'011000'</td>\n",
       "      <td>NA</td>\n",
       "      <td>NA</td>\n",
       "      <td>64.614400</td>\n",
       "      <td>13.987077</td>\n",
       "      <td>-23.665600</td>\n",
       "      <td>55.538154</td>\n",
       "      <td>day</td>\n",
       "      <td>POLYGON ((11583907.212 -144727.756, 11583907.2...</td>\n",
       "    </tr>\n",
       "    <tr>\n",
       "      <th>2</th>\n",
       "      <td>1</td>\n",
       "      <td>11/09/2019 06:40:00</td>\n",
       "      <td>Himawari-8/9</td>\n",
       "      <td>104.02</td>\n",
       "      <td>-1.3</td>\n",
       "      <td>42.55</td>\n",
       "      <td>88.23</td>\n",
       "      <td>69.287</td>\n",
       "      <td>94.051</td>\n",
       "      <td>330.82</td>\n",
       "      <td>...</td>\n",
       "      <td>1</td>\n",
       "      <td>'011000'</td>\n",
       "      <td>NA</td>\n",
       "      <td>NA</td>\n",
       "      <td>-76.374005</td>\n",
       "      <td>25.492991</td>\n",
       "      <td>-164.604005</td>\n",
       "      <td>18.991178</td>\n",
       "      <td>day</td>\n",
       "      <td>POLYGON ((11579454.432 -144727.756, 11579454.4...</td>\n",
       "    </tr>\n",
       "    <tr>\n",
       "      <th>3</th>\n",
       "      <td>1</td>\n",
       "      <td>11/09/2019 05:30:00</td>\n",
       "      <td>Himawari-8/9</td>\n",
       "      <td>104.04</td>\n",
       "      <td>-1.3</td>\n",
       "      <td>42.52</td>\n",
       "      <td>88.25</td>\n",
       "      <td>69.253</td>\n",
       "      <td>93.961</td>\n",
       "      <td>351.44</td>\n",
       "      <td>...</td>\n",
       "      <td>1</td>\n",
       "      <td>'011000'</td>\n",
       "      <td>NA</td>\n",
       "      <td>NA</td>\n",
       "      <td>-50.821216</td>\n",
       "      <td>9.440320</td>\n",
       "      <td>-139.071216</td>\n",
       "      <td>35.824699</td>\n",
       "      <td>day</td>\n",
       "      <td>POLYGON ((11581680.822 -144727.756, 11581680.8...</td>\n",
       "    </tr>\n",
       "    <tr>\n",
       "      <th>4</th>\n",
       "      <td>1</td>\n",
       "      <td>11/09/2019 03:40:00</td>\n",
       "      <td>Himawari-8/9</td>\n",
       "      <td>104.02</td>\n",
       "      <td>-1.3</td>\n",
       "      <td>42.54</td>\n",
       "      <td>88.30</td>\n",
       "      <td>69.275</td>\n",
       "      <td>94.021</td>\n",
       "      <td>323.96</td>\n",
       "      <td>...</td>\n",
       "      <td>1</td>\n",
       "      <td>'001000'</td>\n",
       "      <td>NA</td>\n",
       "      <td>NA</td>\n",
       "      <td>73.348975</td>\n",
       "      <td>21.049041</td>\n",
       "      <td>-14.951025</td>\n",
       "      <td>63.061925</td>\n",
       "      <td>day</td>\n",
       "      <td>POLYGON ((11579454.432 -144727.756, 11579454.4...</td>\n",
       "    </tr>\n",
       "  </tbody>\n",
       "</table>\n",
       "<p>5 rows × 31 columns</p>\n",
       "</div>"
      ],
      "text/plain": [
       "   id                 date     satellite     lon  lat  viewzenang  viewazang  \\\n",
       "0   1  11/09/2019 04:00:00  Himawari-8/9  103.96 -1.3       42.61      88.29   \n",
       "1   1  11/09/2019 04:10:00  Himawari-8/9  104.06 -1.3       42.50      88.28   \n",
       "2   1  11/09/2019 06:40:00  Himawari-8/9  104.02 -1.3       42.55      88.23   \n",
       "3   1  11/09/2019 05:30:00  Himawari-8/9  104.04 -1.3       42.52      88.25   \n",
       "4   1  11/09/2019 03:40:00  Himawari-8/9  104.02 -1.3       42.54      88.30   \n",
       "\n",
       "   pixwid  pixlen     t07  ...  fire   test1_6  confidence  FRP  solarazang  \\\n",
       "0  69.353  94.233  317.01  ...     1  '001000'          NA   NA   68.479144   \n",
       "1  69.231  93.901  329.70  ...     1  '011000'          NA   NA   64.614400   \n",
       "2  69.287  94.051  330.82  ...     1  '011000'          NA   NA  -76.374005   \n",
       "3  69.253  93.961  351.44  ...     1  '011000'          NA   NA  -50.821216   \n",
       "4  69.275  94.021  323.96  ...     1  '001000'          NA   NA   73.348975   \n",
       "\n",
       "   solarzenang    relazang  sunglint_angle  daynight  \\\n",
       "0    16.374637  -19.810856       58.226437       day   \n",
       "1    13.987077  -23.665600       55.538154       day   \n",
       "2    25.492991 -164.604005       18.991178       day   \n",
       "3     9.440320 -139.071216       35.824699       day   \n",
       "4    21.049041  -14.951025       63.061925       day   \n",
       "\n",
       "                                            geometry  \n",
       "0  POLYGON ((11572775.263 -144727.756, 11572775.2...  \n",
       "1  POLYGON ((11583907.212 -144727.756, 11583907.2...  \n",
       "2  POLYGON ((11579454.432 -144727.756, 11579454.4...  \n",
       "3  POLYGON ((11581680.822 -144727.756, 11581680.8...  \n",
       "4  POLYGON ((11579454.432 -144727.756, 11579454.4...  \n",
       "\n",
       "[5 rows x 31 columns]"
      ]
     },
     "execution_count": 19,
     "metadata": {},
     "output_type": "execute_result"
    }
   ],
   "source": [
    "hs_df_clipped.head()"
   ]
  },
  {
   "cell_type": "code",
   "execution_count": 20,
   "metadata": {},
   "outputs": [
    {
     "data": {
      "text/html": [
       "<div>\n",
       "<style scoped>\n",
       "    .dataframe tbody tr th:only-of-type {\n",
       "        vertical-align: middle;\n",
       "    }\n",
       "\n",
       "    .dataframe tbody tr th {\n",
       "        vertical-align: top;\n",
       "    }\n",
       "\n",
       "    .dataframe thead th {\n",
       "        text-align: right;\n",
       "    }\n",
       "</style>\n",
       "<table border=\"1\" class=\"dataframe\">\n",
       "  <thead>\n",
       "    <tr style=\"text-align: right;\">\n",
       "      <th></th>\n",
       "      <th>datestamp</th>\n",
       "      <th>geometry</th>\n",
       "      <th>lat</th>\n",
       "      <th>lon</th>\n",
       "      <th>end_date</th>\n",
       "      <th>start_date</th>\n",
       "      <th>period</th>\n",
       "      <th>id_truth</th>\n",
       "    </tr>\n",
       "  </thead>\n",
       "  <tbody>\n",
       "    <tr>\n",
       "      <th>0</th>\n",
       "      <td>2019/09/01</td>\n",
       "      <td>POLYGON ((11371879.424 47734.603, 11371877.016...</td>\n",
       "      <td>0.428803</td>\n",
       "      <td>102.150839</td>\n",
       "      <td>2019-09-01</td>\n",
       "      <td>2019-09-01</td>\n",
       "      <td>0 days 00:00:00.000000000</td>\n",
       "      <td>0</td>\n",
       "    </tr>\n",
       "    <tr>\n",
       "      <th>1</th>\n",
       "      <td>2019/09/01</td>\n",
       "      <td>POLYGON ((11372013.189 47386.805, 11372010.781...</td>\n",
       "      <td>0.425679</td>\n",
       "      <td>102.152041</td>\n",
       "      <td>2019-09-01</td>\n",
       "      <td>2019-09-01</td>\n",
       "      <td>0 days 00:00:00.000000000</td>\n",
       "      <td>1</td>\n",
       "    </tr>\n",
       "    <tr>\n",
       "      <th>2</th>\n",
       "      <td>2019/09/01</td>\n",
       "      <td>POLYGON ((11400398.079 -14065.191, 11400395.67...</td>\n",
       "      <td>-0.126350</td>\n",
       "      <td>102.407027</td>\n",
       "      <td>2019-09-01</td>\n",
       "      <td>2019-09-01</td>\n",
       "      <td>0 days 00:00:00.000000000</td>\n",
       "      <td>2</td>\n",
       "    </tr>\n",
       "    <tr>\n",
       "      <th>3</th>\n",
       "      <td>2019/09/01</td>\n",
       "      <td>POLYGON ((11399568.738 -13984.932, 11399566.33...</td>\n",
       "      <td>-0.125629</td>\n",
       "      <td>102.399577</td>\n",
       "      <td>2019-09-01</td>\n",
       "      <td>2019-09-01</td>\n",
       "      <td>0 days 00:00:00.000000000</td>\n",
       "      <td>3</td>\n",
       "    </tr>\n",
       "    <tr>\n",
       "      <th>4</th>\n",
       "      <td>2019/09/01</td>\n",
       "      <td>POLYGON ((11400933.139 -14038.438, 11400930.73...</td>\n",
       "      <td>-0.126109</td>\n",
       "      <td>102.411833</td>\n",
       "      <td>2019-09-01</td>\n",
       "      <td>2019-09-01</td>\n",
       "      <td>0 days 00:00:00.000000000</td>\n",
       "      <td>4</td>\n",
       "    </tr>\n",
       "  </tbody>\n",
       "</table>\n",
       "</div>"
      ],
      "text/plain": [
       "    datestamp                                           geometry       lat  \\\n",
       "0  2019/09/01  POLYGON ((11371879.424 47734.603, 11371877.016...  0.428803   \n",
       "1  2019/09/01  POLYGON ((11372013.189 47386.805, 11372010.781...  0.425679   \n",
       "2  2019/09/01  POLYGON ((11400398.079 -14065.191, 11400395.67... -0.126350   \n",
       "3  2019/09/01  POLYGON ((11399568.738 -13984.932, 11399566.33... -0.125629   \n",
       "4  2019/09/01  POLYGON ((11400933.139 -14038.438, 11400930.73... -0.126109   \n",
       "\n",
       "          lon    end_date  start_date                     period  id_truth  \n",
       "0  102.150839  2019-09-01  2019-09-01  0 days 00:00:00.000000000         0  \n",
       "1  102.152041  2019-09-01  2019-09-01  0 days 00:00:00.000000000         1  \n",
       "2  102.407027  2019-09-01  2019-09-01  0 days 00:00:00.000000000         2  \n",
       "3  102.399577  2019-09-01  2019-09-01  0 days 00:00:00.000000000         3  \n",
       "4  102.411833  2019-09-01  2019-09-01  0 days 00:00:00.000000000         4  "
      ]
     },
     "execution_count": 20,
     "metadata": {},
     "output_type": "execute_result"
    }
   ],
   "source": [
    "truth_gdf['id_truth'] = truth_gdf.index\n",
    "truth_gdf.head()"
   ]
  },
  {
   "cell_type": "code",
   "execution_count": 21,
   "metadata": {},
   "outputs": [
    {
     "data": {
      "text/html": [
       "<div>\n",
       "<style scoped>\n",
       "    .dataframe tbody tr th:only-of-type {\n",
       "        vertical-align: middle;\n",
       "    }\n",
       "\n",
       "    .dataframe tbody tr th {\n",
       "        vertical-align: top;\n",
       "    }\n",
       "\n",
       "    .dataframe thead th {\n",
       "        text-align: right;\n",
       "    }\n",
       "</style>\n",
       "<table border=\"1\" class=\"dataframe\">\n",
       "  <thead>\n",
       "    <tr style=\"text-align: right;\">\n",
       "      <th></th>\n",
       "      <th>datestamp</th>\n",
       "      <th>lat_1</th>\n",
       "      <th>lon_1</th>\n",
       "      <th>end_date</th>\n",
       "      <th>start_date</th>\n",
       "      <th>period</th>\n",
       "      <th>id_truth</th>\n",
       "      <th>id</th>\n",
       "      <th>date</th>\n",
       "      <th>satellite</th>\n",
       "      <th>...</th>\n",
       "      <th>fire</th>\n",
       "      <th>test1_6</th>\n",
       "      <th>confidence</th>\n",
       "      <th>FRP</th>\n",
       "      <th>solarazang</th>\n",
       "      <th>solarzenang</th>\n",
       "      <th>relazang</th>\n",
       "      <th>sunglint_angle</th>\n",
       "      <th>daynight</th>\n",
       "      <th>geometry</th>\n",
       "    </tr>\n",
       "  </thead>\n",
       "  <tbody>\n",
       "    <tr>\n",
       "      <th>0</th>\n",
       "      <td>2019/09/01</td>\n",
       "      <td>-1.259534</td>\n",
       "      <td>104.00183</td>\n",
       "      <td>2019-09-01</td>\n",
       "      <td>2019-09-01</td>\n",
       "      <td>0 days 00:00:00.000000000</td>\n",
       "      <td>10.0</td>\n",
       "      <td>1.0</td>\n",
       "      <td>11/09/2019 05:30:00</td>\n",
       "      <td>Himawari-8/9</td>\n",
       "      <td>...</td>\n",
       "      <td>1.0</td>\n",
       "      <td>'001000'</td>\n",
       "      <td>NA</td>\n",
       "      <td>NA</td>\n",
       "      <td>-50.855072</td>\n",
       "      <td>9.384052</td>\n",
       "      <td>-139.165072</td>\n",
       "      <td>35.899131</td>\n",
       "      <td>day</td>\n",
       "      <td>POLYGON ((11577228.043 -140273.865, 11577228.0...</td>\n",
       "    </tr>\n",
       "    <tr>\n",
       "      <th>1</th>\n",
       "      <td>2019/09/08</td>\n",
       "      <td>-1.263210</td>\n",
       "      <td>104.00245</td>\n",
       "      <td>2019-09-08</td>\n",
       "      <td>2019-09-08</td>\n",
       "      <td>0 days 00:00:00.000000000</td>\n",
       "      <td>1554.0</td>\n",
       "      <td>1.0</td>\n",
       "      <td>11/09/2019 05:30:00</td>\n",
       "      <td>Himawari-8/9</td>\n",
       "      <td>...</td>\n",
       "      <td>1.0</td>\n",
       "      <td>'001000'</td>\n",
       "      <td>NA</td>\n",
       "      <td>NA</td>\n",
       "      <td>-50.855072</td>\n",
       "      <td>9.384052</td>\n",
       "      <td>-139.165072</td>\n",
       "      <td>35.899131</td>\n",
       "      <td>day</td>\n",
       "      <td>POLYGON ((11577228.043 -140273.865, 11577228.0...</td>\n",
       "    </tr>\n",
       "    <tr>\n",
       "      <th>2</th>\n",
       "      <td>2019/09/01</td>\n",
       "      <td>-1.259534</td>\n",
       "      <td>104.00183</td>\n",
       "      <td>2019-09-01</td>\n",
       "      <td>2019-09-01</td>\n",
       "      <td>0 days 00:00:00.000000000</td>\n",
       "      <td>10.0</td>\n",
       "      <td>1.0</td>\n",
       "      <td>11/09/2019 07:00:00</td>\n",
       "      <td>Himawari-8/9</td>\n",
       "      <td>...</td>\n",
       "      <td>1.0</td>\n",
       "      <td>'001000'</td>\n",
       "      <td>NA</td>\n",
       "      <td>NA</td>\n",
       "      <td>-78.607061</td>\n",
       "      <td>30.346000</td>\n",
       "      <td>-166.877061</td>\n",
       "      <td>14.441717</td>\n",
       "      <td>day</td>\n",
       "      <td>POLYGON ((11577228.043 -140273.865, 11577228.0...</td>\n",
       "    </tr>\n",
       "    <tr>\n",
       "      <th>3</th>\n",
       "      <td>2019/09/08</td>\n",
       "      <td>-1.263210</td>\n",
       "      <td>104.00245</td>\n",
       "      <td>2019-09-08</td>\n",
       "      <td>2019-09-08</td>\n",
       "      <td>0 days 00:00:00.000000000</td>\n",
       "      <td>1554.0</td>\n",
       "      <td>1.0</td>\n",
       "      <td>11/09/2019 07:00:00</td>\n",
       "      <td>Himawari-8/9</td>\n",
       "      <td>...</td>\n",
       "      <td>1.0</td>\n",
       "      <td>'001000'</td>\n",
       "      <td>NA</td>\n",
       "      <td>NA</td>\n",
       "      <td>-78.607061</td>\n",
       "      <td>30.346000</td>\n",
       "      <td>-166.877061</td>\n",
       "      <td>14.441717</td>\n",
       "      <td>day</td>\n",
       "      <td>POLYGON ((11577228.043 -140273.865, 11577228.0...</td>\n",
       "    </tr>\n",
       "    <tr>\n",
       "      <th>4</th>\n",
       "      <td>2019/09/01</td>\n",
       "      <td>-1.259534</td>\n",
       "      <td>104.00183</td>\n",
       "      <td>2019-09-01</td>\n",
       "      <td>2019-09-01</td>\n",
       "      <td>0 days 00:00:00.000000000</td>\n",
       "      <td>10.0</td>\n",
       "      <td>1.0</td>\n",
       "      <td>11/09/2019 06:00:00</td>\n",
       "      <td>Himawari-8/9</td>\n",
       "      <td>...</td>\n",
       "      <td>1.0</td>\n",
       "      <td>'001000'</td>\n",
       "      <td>NA</td>\n",
       "      <td>NA</td>\n",
       "      <td>-68.108354</td>\n",
       "      <td>15.915799</td>\n",
       "      <td>-156.408354</td>\n",
       "      <td>28.570955</td>\n",
       "      <td>day</td>\n",
       "      <td>POLYGON ((11577228.043 -140273.865, 11577228.0...</td>\n",
       "    </tr>\n",
       "  </tbody>\n",
       "</table>\n",
       "<p>5 rows × 38 columns</p>\n",
       "</div>"
      ],
      "text/plain": [
       "    datestamp     lat_1      lon_1    end_date  start_date  \\\n",
       "0  2019/09/01 -1.259534  104.00183  2019-09-01  2019-09-01   \n",
       "1  2019/09/08 -1.263210  104.00245  2019-09-08  2019-09-08   \n",
       "2  2019/09/01 -1.259534  104.00183  2019-09-01  2019-09-01   \n",
       "3  2019/09/08 -1.263210  104.00245  2019-09-08  2019-09-08   \n",
       "4  2019/09/01 -1.259534  104.00183  2019-09-01  2019-09-01   \n",
       "\n",
       "                      period  id_truth   id                 date  \\\n",
       "0  0 days 00:00:00.000000000      10.0  1.0  11/09/2019 05:30:00   \n",
       "1  0 days 00:00:00.000000000    1554.0  1.0  11/09/2019 05:30:00   \n",
       "2  0 days 00:00:00.000000000      10.0  1.0  11/09/2019 07:00:00   \n",
       "3  0 days 00:00:00.000000000    1554.0  1.0  11/09/2019 07:00:00   \n",
       "4  0 days 00:00:00.000000000      10.0  1.0  11/09/2019 06:00:00   \n",
       "\n",
       "      satellite  ...  fire   test1_6  confidence  FRP  solarazang  \\\n",
       "0  Himawari-8/9  ...   1.0  '001000'          NA   NA  -50.855072   \n",
       "1  Himawari-8/9  ...   1.0  '001000'          NA   NA  -50.855072   \n",
       "2  Himawari-8/9  ...   1.0  '001000'          NA   NA  -78.607061   \n",
       "3  Himawari-8/9  ...   1.0  '001000'          NA   NA  -78.607061   \n",
       "4  Himawari-8/9  ...   1.0  '001000'          NA   NA  -68.108354   \n",
       "\n",
       "   solarzenang    relazang  sunglint_angle  daynight  \\\n",
       "0     9.384052 -139.165072       35.899131       day   \n",
       "1     9.384052 -139.165072       35.899131       day   \n",
       "2    30.346000 -166.877061       14.441717       day   \n",
       "3    30.346000 -166.877061       14.441717       day   \n",
       "4    15.915799 -156.408354       28.570955       day   \n",
       "\n",
       "                                            geometry  \n",
       "0  POLYGON ((11577228.043 -140273.865, 11577228.0...  \n",
       "1  POLYGON ((11577228.043 -140273.865, 11577228.0...  \n",
       "2  POLYGON ((11577228.043 -140273.865, 11577228.0...  \n",
       "3  POLYGON ((11577228.043 -140273.865, 11577228.0...  \n",
       "4  POLYGON ((11577228.043 -140273.865, 11577228.0...  \n",
       "\n",
       "[5 rows x 38 columns]"
      ]
     },
     "execution_count": 21,
     "metadata": {},
     "output_type": "execute_result"
    }
   ],
   "source": [
    "overlaid_gdf_ungrp = geopandas.overlay(truth_gdf, hs_df_clipped, how='union')\n",
    "overlaid_gdf_ungrp.head()"
   ]
  },
  {
   "cell_type": "code",
   "execution_count": 22,
   "metadata": {},
   "outputs": [
    {
     "data": {
      "text/plain": [
       "array(['2019/09/01', '2019/09/08', '2019/09/06', '2019/09/03',\n",
       "       '2019/09/10', '2019/09/02', '2019/09/09', '2019/09/11',\n",
       "       '2019/09/04', '2019/09/05', '2019/09/07', '2019/09/12', nan],\n",
       "      dtype=object)"
      ]
     },
     "execution_count": 22,
     "metadata": {},
     "output_type": "execute_result"
    }
   ],
   "source": [
    "overlaid_gdf_ungrp['datestamp'].unique()"
   ]
  },
  {
   "cell_type": "code",
   "execution_count": 23,
   "metadata": {},
   "outputs": [],
   "source": [
    "overlaid_gdf_ungrp = overlaid_gdf_ungrp[(overlaid_gdf_ungrp['datestamp'] == '2019/09/11') | overlaid_gdf_ungrp['datestamp'].isna()]"
   ]
  },
  {
   "cell_type": "code",
   "execution_count": 24,
   "metadata": {},
   "outputs": [
    {
     "data": {
      "text/plain": [
       "11222"
      ]
     },
     "execution_count": 24,
     "metadata": {},
     "output_type": "execute_result"
    }
   ],
   "source": [
    "overlaid_gdf_ungrp['lat_1'].isna().sum()"
   ]
  },
  {
   "cell_type": "code",
   "execution_count": 25,
   "metadata": {},
   "outputs": [],
   "source": [
    "overlaid_gdf_ungrp['truth_flag'] = 1\n",
    "overlaid_gdf_ungrp.loc[overlaid_gdf_ungrp['lat_2'].isna(), 'truth_flag'] = 0\n",
    "overlaid_gdf_ungrp.loc[overlaid_gdf_ungrp['lat_1'].isna(), 'truth_flag'] = 0"
   ]
  },
  {
   "cell_type": "code",
   "execution_count": 26,
   "metadata": {},
   "outputs": [
    {
     "data": {
      "text/plain": [
       "count    12856.000000\n",
       "mean         0.091630\n",
       "std          0.288515\n",
       "min          0.000000\n",
       "25%          0.000000\n",
       "50%          0.000000\n",
       "75%          0.000000\n",
       "max          1.000000\n",
       "Name: truth_flag, dtype: float64"
      ]
     },
     "execution_count": 26,
     "metadata": {},
     "output_type": "execute_result"
    }
   ],
   "source": [
    "%matplotlib inline\n",
    "overlaid_gdf_ungrp['truth_flag'].describe()"
   ]
  },
  {
   "cell_type": "code",
   "execution_count": 27,
   "metadata": {},
   "outputs": [
    {
     "data": {
      "text/plain": [
       "<matplotlib.axes._subplots.AxesSubplot at 0x1868025f588>"
      ]
     },
     "execution_count": 27,
     "metadata": {},
     "output_type": "execute_result"
    },
    {
     "data": {
      "image/png": "[encoded data removed]",
      "text/plain": [
       "<Figure size 432x288 with 1 Axes>"
      ]
     },
     "metadata": {
      "needs_background": "light"
     },
     "output_type": "display_data"
    }
   ],
   "source": [
    "overlaid_gdf_ungrp['id_truth'].hist()"
   ]
  },
  {
   "cell_type": "code",
   "execution_count": 28,
   "metadata": {},
   "outputs": [],
   "source": [
    "final_gdf = overlaid_gdf_ungrp.dropna(axis=0, subset=['truth_flag'])"
   ]
  },
  {
   "cell_type": "code",
   "execution_count": 29,
   "metadata": {},
   "outputs": [
    {
     "data": {
      "text/plain": [
       "<matplotlib.axes._subplots.AxesSubplot at 0x1868030a9e8>"
      ]
     },
     "execution_count": 29,
     "metadata": {},
     "output_type": "execute_result"
    },
    {
     "data": {
      "image/png": "[encoded data removed]",
      "text/plain": [
       "<Figure size 432x288 with 1 Axes>"
      ]
     },
     "metadata": {
      "needs_background": "light"
     },
     "output_type": "display_data"
    }
   ],
   "source": [
    "final_gdf['truth_flag'].hist()"
   ]
  },
  {
   "cell_type": "code",
   "execution_count": 30,
   "metadata": {},
   "outputs": [],
   "source": [
    "predict_features = ['t07', 't14', 't07_t14', 'meant07', 'meant14', 'meandt', 'sdt07', 'sdt14', 'sddt', 'ref3', 'ref4', 'sunglint_angle']\n",
    "final_gdf.dropna(subset=predict_features, inplace=True)"
   ]
  },
  {
   "cell_type": "code",
   "execution_count": 31,
   "metadata": {},
   "outputs": [],
   "source": [
    "from sklearn.utils import resample\n",
    "\n",
    "# Separate majority and minority classes\n",
    "df_majority = final_gdf[final_gdf.truth_flag==1]\n",
    "df_minority = final_gdf[final_gdf.truth_flag==0]\n",
    " \n",
    "# Upsample minority class\n",
    "df_minority_upsampled = resample(df_minority, \n",
    "                                 replace=True,    # sample without replacement\n",
    "                                 n_samples=len(df_majority),     # to match majority class\n",
    "                                 random_state=123) # reproducible results\n",
    " \n",
    "# Combine minority class with downsampled majority class\n",
    "df_balanced = pd.concat([df_minority_upsampled, df_majority])"
   ]
  },
  {
   "cell_type": "code",
   "execution_count": 32,
   "metadata": {},
   "outputs": [
    {
     "data": {
      "text/plain": [
       "<matplotlib.axes._subplots.AxesSubplot at 0x18680894320>"
      ]
     },
     "execution_count": 32,
     "metadata": {},
     "output_type": "execute_result"
    },
    {
     "data": {
      "image/png": "[encoded data removed]",
      "text/plain": [
       "<Figure size 432x288 with 1 Axes>"
      ]
     },
     "metadata": {
      "needs_background": "light"
     },
     "output_type": "display_data"
    }
   ],
   "source": [
    "df_balanced['truth_flag'].hist()"
   ]
  },
  {
   "cell_type": "code",
   "execution_count": 33,
   "metadata": {},
   "outputs": [],
   "source": [
    "from sklearn.linear_model import LogisticRegressionCV\n",
    "from sklearn import svm\n",
    "from sklearn.model_selection import train_test_split\n",
    "from sklearn.metrics import roc_auc_score\n",
    "from sklearn.metrics import roc_curve"
   ]
  },
  {
   "cell_type": "code",
   "execution_count": 34,
   "metadata": {},
   "outputs": [
    {
     "data": {
      "text/html": [
       "<div>\n",
       "<style scoped>\n",
       "    .dataframe tbody tr th:only-of-type {\n",
       "        vertical-align: middle;\n",
       "    }\n",
       "\n",
       "    .dataframe tbody tr th {\n",
       "        vertical-align: top;\n",
       "    }\n",
       "\n",
       "    .dataframe thead th {\n",
       "        text-align: right;\n",
       "    }\n",
       "</style>\n",
       "<table border=\"1\" class=\"dataframe\">\n",
       "  <thead>\n",
       "    <tr style=\"text-align: right;\">\n",
       "      <th></th>\n",
       "      <th>t07</th>\n",
       "      <th>t14</th>\n",
       "      <th>t07_t14</th>\n",
       "      <th>meant07</th>\n",
       "      <th>meant14</th>\n",
       "      <th>meandt</th>\n",
       "      <th>sdt07</th>\n",
       "      <th>sdt14</th>\n",
       "      <th>sddt</th>\n",
       "      <th>ref3</th>\n",
       "      <th>ref4</th>\n",
       "      <th>sunglint_angle</th>\n",
       "    </tr>\n",
       "  </thead>\n",
       "  <tbody>\n",
       "    <tr>\n",
       "      <th>12281</th>\n",
       "      <td>319.55</td>\n",
       "      <td>301.13</td>\n",
       "      <td>18.42</td>\n",
       "      <td>306.0897</td>\n",
       "      <td>299.0022</td>\n",
       "      <td>7.0875</td>\n",
       "      <td>1.2570</td>\n",
       "      <td>1.6421</td>\n",
       "      <td>1.2852</td>\n",
       "      <td>0.095</td>\n",
       "      <td>0.228</td>\n",
       "      <td>15.723150</td>\n",
       "    </tr>\n",
       "    <tr>\n",
       "      <th>10045</th>\n",
       "      <td>339.16</td>\n",
       "      <td>303.00</td>\n",
       "      <td>36.16</td>\n",
       "      <td>306.8993</td>\n",
       "      <td>301.0446</td>\n",
       "      <td>5.8547</td>\n",
       "      <td>2.4935</td>\n",
       "      <td>1.3645</td>\n",
       "      <td>1.7722</td>\n",
       "      <td>0.074</td>\n",
       "      <td>0.318</td>\n",
       "      <td>41.010976</td>\n",
       "    </tr>\n",
       "    <tr>\n",
       "      <th>13917</th>\n",
       "      <td>320.27</td>\n",
       "      <td>298.84</td>\n",
       "      <td>21.43</td>\n",
       "      <td>302.3572</td>\n",
       "      <td>297.6195</td>\n",
       "      <td>4.7377</td>\n",
       "      <td>1.4687</td>\n",
       "      <td>1.0646</td>\n",
       "      <td>1.2936</td>\n",
       "      <td>0.129</td>\n",
       "      <td>0.171</td>\n",
       "      <td>16.898724</td>\n",
       "    </tr>\n",
       "    <tr>\n",
       "      <th>16462</th>\n",
       "      <td>317.04</td>\n",
       "      <td>295.69</td>\n",
       "      <td>21.35</td>\n",
       "      <td>302.0842</td>\n",
       "      <td>296.0839</td>\n",
       "      <td>6.0004</td>\n",
       "      <td>1.8035</td>\n",
       "      <td>2.0196</td>\n",
       "      <td>1.4083</td>\n",
       "      <td>0.258</td>\n",
       "      <td>0.338</td>\n",
       "      <td>10.091721</td>\n",
       "    </tr>\n",
       "    <tr>\n",
       "      <th>18484</th>\n",
       "      <td>334.78</td>\n",
       "      <td>306.79</td>\n",
       "      <td>27.99</td>\n",
       "      <td>305.4365</td>\n",
       "      <td>299.2411</td>\n",
       "      <td>6.1955</td>\n",
       "      <td>3.5972</td>\n",
       "      <td>5.1747</td>\n",
       "      <td>2.7268</td>\n",
       "      <td>0.052</td>\n",
       "      <td>0.101</td>\n",
       "      <td>12.398642</td>\n",
       "    </tr>\n",
       "  </tbody>\n",
       "</table>\n",
       "</div>"
      ],
      "text/plain": [
       "          t07     t14  t07_t14   meant07   meant14  meandt   sdt07   sdt14  \\\n",
       "12281  319.55  301.13    18.42  306.0897  299.0022  7.0875  1.2570  1.6421   \n",
       "10045  339.16  303.00    36.16  306.8993  301.0446  5.8547  2.4935  1.3645   \n",
       "13917  320.27  298.84    21.43  302.3572  297.6195  4.7377  1.4687  1.0646   \n",
       "16462  317.04  295.69    21.35  302.0842  296.0839  6.0004  1.8035  2.0196   \n",
       "18484  334.78  306.79    27.99  305.4365  299.2411  6.1955  3.5972  5.1747   \n",
       "\n",
       "         sddt   ref3   ref4  sunglint_angle  \n",
       "12281  1.2852  0.095  0.228       15.723150  \n",
       "10045  1.7722  0.074  0.318       41.010976  \n",
       "13917  1.2936  0.129  0.171       16.898724  \n",
       "16462  1.4083  0.258  0.338       10.091721  \n",
       "18484  2.7268  0.052  0.101       12.398642  "
      ]
     },
     "execution_count": 34,
     "metadata": {},
     "output_type": "execute_result"
    }
   ],
   "source": [
    "logisticRegr = LogisticRegressionCV(fit_intercept=True, penalty='l1', solver='liblinear', cv=5, n_jobs=4)\n",
    "#logisticRegr = svm.SVC(probability=True)\n",
    "\n",
    "df_balanced[['t07', 't14', 't07_t14', 'meant07', 'meant14', 'meandt', 'sdt07', 'sdt14', 'sddt', 'ref3', 'ref4', 'sunglint_angle']].head()"
   ]
  },
  {
   "cell_type": "code",
   "execution_count": 35,
   "metadata": {},
   "outputs": [
    {
     "data": {
      "text/html": [
       "<div>\n",
       "<style scoped>\n",
       "    .dataframe tbody tr th:only-of-type {\n",
       "        vertical-align: middle;\n",
       "    }\n",
       "\n",
       "    .dataframe tbody tr th {\n",
       "        vertical-align: top;\n",
       "    }\n",
       "\n",
       "    .dataframe thead th {\n",
       "        text-align: right;\n",
       "    }\n",
       "</style>\n",
       "<table border=\"1\" class=\"dataframe\">\n",
       "  <thead>\n",
       "    <tr style=\"text-align: right;\">\n",
       "      <th></th>\n",
       "      <th>datestamp</th>\n",
       "      <th>lat_1</th>\n",
       "      <th>lon_1</th>\n",
       "      <th>end_date</th>\n",
       "      <th>start_date</th>\n",
       "      <th>period</th>\n",
       "      <th>id_truth</th>\n",
       "      <th>id</th>\n",
       "      <th>date</th>\n",
       "      <th>satellite</th>\n",
       "      <th>...</th>\n",
       "      <th>test1_6</th>\n",
       "      <th>confidence</th>\n",
       "      <th>FRP</th>\n",
       "      <th>solarazang</th>\n",
       "      <th>solarzenang</th>\n",
       "      <th>relazang</th>\n",
       "      <th>sunglint_angle</th>\n",
       "      <th>daynight</th>\n",
       "      <th>geometry</th>\n",
       "      <th>truth_flag</th>\n",
       "    </tr>\n",
       "  </thead>\n",
       "  <tbody>\n",
       "    <tr>\n",
       "      <th>12281</th>\n",
       "      <td>NaN</td>\n",
       "      <td>NaN</td>\n",
       "      <td>NaN</td>\n",
       "      <td>NaN</td>\n",
       "      <td>NaN</td>\n",
       "      <td>NaN</td>\n",
       "      <td>NaN</td>\n",
       "      <td>1.0</td>\n",
       "      <td>11/09/2019 07:10:00</td>\n",
       "      <td>Himawari-8/9</td>\n",
       "      <td>...</td>\n",
       "      <td>'011000'</td>\n",
       "      <td>NA</td>\n",
       "      <td>NA</td>\n",
       "      <td>-79.322545</td>\n",
       "      <td>30.795187</td>\n",
       "      <td>-168.112545</td>\n",
       "      <td>15.723150</td>\n",
       "      <td>day</td>\n",
       "      <td>POLYGON ((11356815.451 -104645.016, 11356815.4...</td>\n",
       "      <td>0</td>\n",
       "    </tr>\n",
       "    <tr>\n",
       "      <th>10045</th>\n",
       "      <td>NaN</td>\n",
       "      <td>NaN</td>\n",
       "      <td>NaN</td>\n",
       "      <td>NaN</td>\n",
       "      <td>NaN</td>\n",
       "      <td>NaN</td>\n",
       "      <td>NaN</td>\n",
       "      <td>1.0</td>\n",
       "      <td>11/09/2019 05:10:00</td>\n",
       "      <td>Himawari-8/9</td>\n",
       "      <td>...</td>\n",
       "      <td>'011000'</td>\n",
       "      <td>NA</td>\n",
       "      <td>NA</td>\n",
       "      <td>-19.413875</td>\n",
       "      <td>6.874644</td>\n",
       "      <td>-106.983875</td>\n",
       "      <td>41.010976</td>\n",
       "      <td>day</td>\n",
       "      <td>POLYGON ((11577228.043 -202635.553, 11577228.0...</td>\n",
       "      <td>0</td>\n",
       "    </tr>\n",
       "    <tr>\n",
       "      <th>13917</th>\n",
       "      <td>NaN</td>\n",
       "      <td>NaN</td>\n",
       "      <td>NaN</td>\n",
       "      <td>NaN</td>\n",
       "      <td>NaN</td>\n",
       "      <td>NaN</td>\n",
       "      <td>NaN</td>\n",
       "      <td>2.0</td>\n",
       "      <td>11/09/2019 07:20:00</td>\n",
       "      <td>Himawari-8/9</td>\n",
       "      <td>...</td>\n",
       "      <td>'011000'</td>\n",
       "      <td>NA</td>\n",
       "      <td>NA</td>\n",
       "      <td>-80.354094</td>\n",
       "      <td>45.324495</td>\n",
       "      <td>-164.144094</td>\n",
       "      <td>16.898724</td>\n",
       "      <td>day</td>\n",
       "      <td>POLYGON ((12679289.888 -347488.587, 12679289.8...</td>\n",
       "      <td>0</td>\n",
       "    </tr>\n",
       "    <tr>\n",
       "      <th>16462</th>\n",
       "      <td>NaN</td>\n",
       "      <td>NaN</td>\n",
       "      <td>NaN</td>\n",
       "      <td>NaN</td>\n",
       "      <td>NaN</td>\n",
       "      <td>NaN</td>\n",
       "      <td>NaN</td>\n",
       "      <td>2.0</td>\n",
       "      <td>11/09/2019 06:20:00</td>\n",
       "      <td>Himawari-8/9</td>\n",
       "      <td>...</td>\n",
       "      <td>'011000'</td>\n",
       "      <td>NA</td>\n",
       "      <td>NA</td>\n",
       "      <td>-75.994401</td>\n",
       "      <td>30.669362</td>\n",
       "      <td>-160.384401</td>\n",
       "      <td>10.091721</td>\n",
       "      <td>day</td>\n",
       "      <td>POLYGON ((12688196.561 -314047.783, 12688196.5...</td>\n",
       "      <td>0</td>\n",
       "    </tr>\n",
       "    <tr>\n",
       "      <th>18484</th>\n",
       "      <td>NaN</td>\n",
       "      <td>NaN</td>\n",
       "      <td>NaN</td>\n",
       "      <td>NaN</td>\n",
       "      <td>NaN</td>\n",
       "      <td>NaN</td>\n",
       "      <td>NaN</td>\n",
       "      <td>3.0</td>\n",
       "      <td>11/09/2019 06:20:00</td>\n",
       "      <td>Himawari-8/9</td>\n",
       "      <td>...</td>\n",
       "      <td>'011010'</td>\n",
       "      <td>NA</td>\n",
       "      <td>NA</td>\n",
       "      <td>-74.076229</td>\n",
       "      <td>28.753003</td>\n",
       "      <td>-158.046229</td>\n",
       "      <td>12.398642</td>\n",
       "      <td>day</td>\n",
       "      <td>POLYGON ((12452199.240 -369787.701, 12452199.2...</td>\n",
       "      <td>0</td>\n",
       "    </tr>\n",
       "  </tbody>\n",
       "</table>\n",
       "<p>5 rows × 39 columns</p>\n",
       "</div>"
      ],
      "text/plain": [
       "      datestamp  lat_1  lon_1 end_date start_date period  id_truth   id  \\\n",
       "12281       NaN    NaN    NaN      NaN        NaN    NaN       NaN  1.0   \n",
       "10045       NaN    NaN    NaN      NaN        NaN    NaN       NaN  1.0   \n",
       "13917       NaN    NaN    NaN      NaN        NaN    NaN       NaN  2.0   \n",
       "16462       NaN    NaN    NaN      NaN        NaN    NaN       NaN  2.0   \n",
       "18484       NaN    NaN    NaN      NaN        NaN    NaN       NaN  3.0   \n",
       "\n",
       "                      date     satellite  ...   test1_6  confidence  FRP  \\\n",
       "12281  11/09/2019 07:10:00  Himawari-8/9  ...  '011000'          NA   NA   \n",
       "10045  11/09/2019 05:10:00  Himawari-8/9  ...  '011000'          NA   NA   \n",
       "13917  11/09/2019 07:20:00  Himawari-8/9  ...  '011000'          NA   NA   \n",
       "16462  11/09/2019 06:20:00  Himawari-8/9  ...  '011000'          NA   NA   \n",
       "18484  11/09/2019 06:20:00  Himawari-8/9  ...  '011010'          NA   NA   \n",
       "\n",
       "       solarazang  solarzenang    relazang  sunglint_angle  daynight  \\\n",
       "12281  -79.322545    30.795187 -168.112545       15.723150       day   \n",
       "10045  -19.413875     6.874644 -106.983875       41.010976       day   \n",
       "13917  -80.354094    45.324495 -164.144094       16.898724       day   \n",
       "16462  -75.994401    30.669362 -160.384401       10.091721       day   \n",
       "18484  -74.076229    28.753003 -158.046229       12.398642       day   \n",
       "\n",
       "                                                geometry  truth_flag  \n",
       "12281  POLYGON ((11356815.451 -104645.016, 11356815.4...           0  \n",
       "10045  POLYGON ((11577228.043 -202635.553, 11577228.0...           0  \n",
       "13917  POLYGON ((12679289.888 -347488.587, 12679289.8...           0  \n",
       "16462  POLYGON ((12688196.561 -314047.783, 12688196.5...           0  \n",
       "18484  POLYGON ((12452199.240 -369787.701, 12452199.2...           0  \n",
       "\n",
       "[5 rows x 39 columns]"
      ]
     },
     "execution_count": 35,
     "metadata": {},
     "output_type": "execute_result"
    }
   ],
   "source": [
    "df_balanced.head()"
   ]
  },
  {
   "cell_type": "code",
   "execution_count": 36,
   "metadata": {},
   "outputs": [],
   "source": [
    "from sklearn.model_selection import cross_val_score"
   ]
  },
  {
   "cell_type": "code",
   "execution_count": 37,
   "metadata": {},
   "outputs": [
    {
     "name": "stderr",
     "output_type": "stream",
     "text": [
      "C:\\Anaconda3\\lib\\site-packages\\sklearn\\svm\\base.py:929: ConvergenceWarning: Liblinear failed to converge, increase the number of iterations.\n",
      "  \"the number of iterations.\", ConvergenceWarning)\n"
     ]
    },
    {
     "data": {
      "text/plain": [
       "LogisticRegressionCV(Cs=10, class_weight=None, cv=5, dual=False,\n",
       "                     fit_intercept=True, intercept_scaling=1.0, l1_ratios=None,\n",
       "                     max_iter=100, multi_class='warn', n_jobs=4, penalty='l1',\n",
       "                     random_state=None, refit=True, scoring=None,\n",
       "                     solver='liblinear', tol=0.0001, verbose=0)"
      ]
     },
     "execution_count": 37,
     "metadata": {},
     "output_type": "execute_result"
    }
   ],
   "source": [
    "logisticRegr.fit(df_balanced[predict_features], df_balanced['truth_flag'])"
   ]
  },
  {
   "cell_type": "code",
   "execution_count": 38,
   "metadata": {},
   "outputs": [
    {
     "name": "stdout",
     "output_type": "stream",
     "text": [
      "0.04675820588528067 t07\n",
      "0.0 t14\n",
      "0.013009572811010957 t07_t14\n",
      "-0.03608338423061218 meant07\n",
      "-0.016309204415502855 meant14\n",
      "0.0 meandt\n",
      "0.0 sdt07\n",
      "0.0 sdt14\n",
      "0.0 sddt\n",
      "0.0 ref3\n",
      "0.0 ref4\n",
      "0.007849798633247312 sunglint_angle\n"
     ]
    }
   ],
   "source": [
    "for coeff, feature in zip(logisticRegr.coef_[0], predict_features):\n",
    "    print (coeff, feature)"
   ]
  },
  {
   "cell_type": "code",
   "execution_count": 47,
   "metadata": {},
   "outputs": [],
   "source": [
    "from sklearn.metrics import roc_auc_score\n",
    "from sklearn.metrics import roc_curve"
   ]
  },
  {
   "cell_type": "code",
   "execution_count": 48,
   "metadata": {},
   "outputs": [],
   "source": [
    "y_prob = logisticRegr.predict_proba(df_balanced[predict_features])[:, 1]"
   ]
  },
  {
   "cell_type": "code",
   "execution_count": 49,
   "metadata": {},
   "outputs": [
    {
     "name": "stderr",
     "output_type": "stream",
     "text": [
      "C:\\Anaconda3\\lib\\site-packages\\ipykernel_launcher.py:2: RuntimeWarning: divide by zero encountered in true_divide\n",
      "  \n"
     ]
    }
   ],
   "source": [
    "fpr, tpr, thresholds = roc_curve(y_true = df_balanced['truth_flag'], y_score = y_prob)\n",
    "csi = 1/((1/(1-fpr)) + (1/tpr) - 1)"
   ]
  },
  {
   "cell_type": "code",
   "execution_count": 52,
   "metadata": {},
   "outputs": [],
   "source": [
    "df_balanced['logit_proba'] = y_prob\n",
    "df_balanced['sza_prob'] = 1\n",
    "df_balanced.loc[df_balanced['sunglint_angle'] < 20, 'sza_prob'] = 0"
   ]
  },
  {
   "cell_type": "code",
   "execution_count": 53,
   "metadata": {},
   "outputs": [
    {
     "name": "stdout",
     "output_type": "stream",
     "text": [
      "0.7498753318478846 0.4957555178268251\n"
     ]
    }
   ],
   "source": [
    "roc = roc_auc_score(y_true = df_balanced['truth_flag'], y_score = y_prob)\n",
    "roc_sg = roc_auc_score(y_true = df_balanced['truth_flag'], y_score = df_balanced['sza_prob'])\n",
    "\n",
    "print (roc, roc_sg)"
   ]
  },
  {
   "cell_type": "code",
   "execution_count": 55,
   "metadata": {},
   "outputs": [
    {
     "data": {
      "text/plain": [
       "<matplotlib.legend.Legend at 0x1868d69ba90>"
      ]
     },
     "execution_count": 55,
     "metadata": {},
     "output_type": "execute_result"
    },
    {
     "data": {
      "image/png": "[encoded data removed]",
      "text/plain": [
       "<Figure size 432x288 with 1 Axes>"
      ]
     },
     "metadata": {
      "needs_background": "light"
     },
     "output_type": "display_data"
    }
   ],
   "source": [
    "import matplotlib.pyplot as plt\n",
    "plt.figure()\n",
    "plt.plot(fpr, tpr, label='Logistic Regression (area = %0.2f)' % roc)\n",
    "plt.plot(thresholds, csi)\n",
    "plt.plot([0, 1], [0, 1],'r--')\n",
    "plt.xlim([0.0, 1.0])\n",
    "plt.ylim([0.0, 1.05])\n",
    "plt.xlabel('False Positive Rate')\n",
    "plt.ylabel('True Positive Rate')\n",
    "plt.title('Receiver operating characteristic')\n",
    "plt.legend(loc=\"lower right\")"
   ]
  },
  {
   "cell_type": "code",
   "execution_count": 56,
   "metadata": {},
   "outputs": [
    {
     "name": "stderr",
     "output_type": "stream",
     "text": [
      "No handles with labels found to put in legend.\n"
     ]
    },
    {
     "data": {
      "text/plain": [
       "<matplotlib.legend.Legend at 0x1868d6d50b8>"
      ]
     },
     "execution_count": 56,
     "metadata": {},
     "output_type": "execute_result"
    },
    {
     "data": {
      "image/png": "[encoded data removed]",
      "text/plain": [
       "<Figure size 792x432 with 1 Axes>"
      ]
     },
     "metadata": {
      "needs_background": "light"
     },
     "output_type": "display_data"
    }
   ],
   "source": [
    "%matplotlib inline\n",
    "import matplotlib.pyplot as plt\n",
    "\n",
    "fig = plt.figure(figsize=(11,6))\n",
    "ax = plt.axes()\n",
    "plt.style.use('seaborn-whitegrid')\n",
    "ax.scatter(df_balanced['logit_proba'], df_balanced['truth_flag'], marker='x');\n",
    "ax.legend()"
   ]
  },
  {
   "cell_type": "code",
   "execution_count": 57,
   "metadata": {},
   "outputs": [],
   "source": [
    "final_gdf['sza_prob'] = 1\n",
    "final_gdf.loc[final_gdf['solarzenang'] < 20, 'sza_prob'] = 0"
   ]
  },
  {
   "cell_type": "code",
   "execution_count": 58,
   "metadata": {},
   "outputs": [],
   "source": [
    "final_gdf['logit_prob'] = logisticRegr.predict_proba(final_gdf[predict_features])[:, 1]"
   ]
  },
  {
   "cell_type": "code",
   "execution_count": 59,
   "metadata": {},
   "outputs": [],
   "source": [
    "hs_gdf['logit_prob'] = logisticRegr.predict_proba(hs_gdf[predict_features])[:, 1]"
   ]
  },
  {
   "cell_type": "code",
   "execution_count": 60,
   "metadata": {},
   "outputs": [],
   "source": [
    "from sklearn.calibration import calibration_curve"
   ]
  },
  {
   "cell_type": "code",
   "execution_count": 61,
   "metadata": {},
   "outputs": [],
   "source": [
    "prob_true, prob_pred = calibration_curve(final_gdf['truth_flag'], final_gdf['logit_prob'], n_bins=10)"
   ]
  },
  {
   "cell_type": "code",
   "execution_count": 62,
   "metadata": {},
   "outputs": [
    {
     "name": "stderr",
     "output_type": "stream",
     "text": [
      "No handles with labels found to put in legend.\n"
     ]
    },
    {
     "data": {
      "text/plain": [
       "<matplotlib.legend.Legend at 0x1868d8e5a90>"
      ]
     },
     "execution_count": 62,
     "metadata": {},
     "output_type": "execute_result"
    },
    {
     "data": {
      "image/png": "[encoded data removed]",
      "text/plain": [
       "<Figure size 792x432 with 1 Axes>"
      ]
     },
     "metadata": {},
     "output_type": "display_data"
    }
   ],
   "source": [
    "fig = plt.figure(figsize=(11,6))\n",
    "ax = plt.axes()\n",
    "plt.style.use('seaborn-whitegrid')\n",
    "ax.plot(prob_pred, prob_true, marker='x');\n",
    "ax.plot([0, 1], [0, 1], marker='x');\n",
    "ax.legend()"
   ]
  },
  {
   "cell_type": "code",
   "execution_count": null,
   "metadata": {},
   "outputs": [],
   "source": []
  },
  {
   "cell_type": "code",
   "execution_count": null,
   "metadata": {},
   "outputs": [],
   "source": []
  }
 ],
 "metadata": {
  "kernelspec": {
   "display_name": "Python 3",
   "language": "python",
   "name": "python3"
  },
  "language_info": {
   "codemirror_mode": {
    "name": "ipython",
    "version": 3
   },
   "file_extension": ".py",
   "mimetype": "text/x-python",
   "name": "python",
   "nbconvert_exporter": "python",
   "pygments_lexer": "ipython3",
   "version": "3.7.3"
  }
 },
 "nbformat": 4,
 "nbformat_minor": 2
}
