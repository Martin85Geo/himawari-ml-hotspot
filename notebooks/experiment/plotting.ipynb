{
 "cells": [
  {
   "cell_type": "code",
   "execution_count": 1,
   "metadata": {},
   "outputs": [],
   "source": [
    "%matplotlib inline\n",
    "import pyproj\n",
    "import logging\n",
    "import argparse\n",
    "import os\n",
    "import json\n",
    "import pandas as pd\n",
    "import geopandas\n",
    "import cartopy.feature as cfeature\n",
    "import numpy as np\n",
    "import matplotlib.pyplot as plt\n",
    "from cartopy.io.shapereader import Reader\n",
    "from cartopy.feature import ShapelyFeature\n",
    "from cartopy import crs as ccrs\n",
    "from shapely import geometry\n",
    "from asmclib import geohotspot\n",
    "from datetime import datetime, timedelta\n",
    "from shapely.geometry import box"
   ]
  },
  {
   "cell_type": "code",
   "execution_count": 10,
   "metadata": {},
   "outputs": [],
   "source": [
    "hs_grid = geopandas.read_file(\"./output/NRT_2km_hotspot_grid_20191212.geojson\")\n",
    "hs_grid_fires = hs_grid[hs_grid['adj_weight'] >= 0.31]"
   ]
  },
  {
   "cell_type": "code",
   "execution_count": 11,
   "metadata": {},
   "outputs": [],
   "source": [
    "hs_grid_fires_84 = hs_grid.to_crs({'init': 'epsg:4326'})"
   ]
  },
  {
   "cell_type": "code",
   "execution_count": 12,
   "metadata": {},
   "outputs": [
    {
     "name": "stdout",
     "output_type": "stream",
     "text": [
      "array('d', [118.02045427784023, 118.03842058352262, 118.03842058352262, 118.02045427784023, 118.02045427784023]) array('d', [28.599776675798687, 28.599776675798687, 28.58400134802416, 28.58400134802416, 28.599776675798687])\n"
     ]
    }
   ],
   "source": [
    "x = hs_grid_fires_84.iloc[0].geometry\n",
    "x, y = x.exterior.coords.xy\n",
    "print (x, y)"
   ]
  },
  {
   "cell_type": "code",
   "execution_count": 13,
   "metadata": {},
   "outputs": [
    {
     "data": {
      "text/plain": [
       "38"
      ]
     },
     "execution_count": 13,
     "metadata": {},
     "output_type": "execute_result"
    }
   ],
   "source": [
    "f = open('test.ann', \"w+\")\n",
    "for index, row in hs_grid_fires_84[hs_grid_fires_84['adj_weight'] >= 0.31].iterrows():\n",
    "    x, y = row.geometry.exterior.coords.xy\n",
    "    list_len = len(x)\n",
    "    f.write('######################################\\n')\n",
    "    f.write('POLYLINE\\n')\n",
    "    f.write('COLOR 255   0   0\\n')\n",
    "    f.write('THICKNESS       2\\n')\n",
    "    f.write('LINESTYLE       1\\n')\n",
    "    f.write('STARTPOINTS\\n')\n",
    "    for i in range(0, list_len):\n",
    "        f.write('       %f       %f\\n' % (x[i], y[i]))\n",
    "    f.write('ENDPOINTS\\n')\n",
    "for index, row in hs_grid_fires_84[hs_grid_fires_84['adj_weight'] < 0.31].iterrows():\n",
    "    x, y = row.geometry.exterior.coords.xy\n",
    "    list_len = len(x)\n",
    "    f.write('######################################\\n')\n",
    "    f.write('POLYLINE\\n')\n",
    "    f.write('COLOR 255   255   0\\n')\n",
    "    f.write('THICKNESS       2\\n')\n",
    "    f.write('LINESTYLE       1\\n')\n",
    "    f.write('STARTPOINTS\\n')\n",
    "    for i in range(0, list_len):\n",
    "        f.write('       %f       %f\\n' % (x[i], y[i]))\n",
    "    f.write('ENDPOINTS\\n')\n",
    "\n",
    "f.write('######################################')"
   ]
  },
  {
   "cell_type": "code",
   "execution_count": 234,
   "metadata": {},
   "outputs": [],
   "source": [
    "map_shape_feature = ShapelyFeature(Reader('./shapefile/GADM_Simplified_ASMC_ASEAN_v2.2c.shp').geometries(), ccrs.PlateCarree())"
   ]
  },
  {
   "cell_type": "code",
   "execution_count": 261,
   "metadata": {
    "scrolled": true
   },
   "outputs": [],
   "source": [
    "map_left = 90\n",
    "map_right = 140\n",
    "map_top = 30\n",
    "map_bottom = -15"
   ]
  },
  {
   "cell_type": "code",
   "execution_count": null,
   "metadata": {},
   "outputs": [],
   "source": [
    "fig = plt.figure(figsize=(30, 30), dpi=1200, frameon=False)\n",
    "ax = plt.axes([0, 0, 1, 1], projection=ccrs.Mercator())\n",
    "ax.axes.get_xaxis().set_visible(False)\n",
    "ax.axes.get_yaxis().set_visible(False)\n",
    "ax.set_frame_on(False)\n",
    "ax.set_extent([map_left, map_right, map_bottom, map_top], crs=ccrs.PlateCarree())\n",
    "ax.add_feature(map_shape_feature, linewidth=0.1, edgecolor='black', facecolor='None', zorder=1)\n",
    "ax.add_geometries(hs_grid_fires.geometry, alpha=0.8, crs=ccrs.Mercator(), facecolor='none', edgecolor='red', linewidth=0.1, zorder=2)"
   ]
  },
  {
   "cell_type": "code",
   "execution_count": 171,
   "metadata": {},
   "outputs": [],
   "source": []
  },
  {
   "cell_type": "code",
   "execution_count": null,
   "metadata": {},
   "outputs": [],
   "source": []
  }
 ],
 "metadata": {
  "kernelspec": {
   "display_name": "Python 3",
   "language": "python",
   "name": "python3"
  },
  "language_info": {
   "codemirror_mode": {
    "name": "ipython",
    "version": 3
   },
   "file_extension": ".py",
   "mimetype": "text/x-python",
   "name": "python",
   "nbconvert_exporter": "python",
   "pygments_lexer": "ipython3",
   "version": "3.7.3"
  }
 },
 "nbformat": 4,
 "nbformat_minor": 2
}
